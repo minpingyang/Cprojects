{
 "metadata": {
  "name": ""
 },
 "nbformat": 3,
 "nbformat_minor": 0,
 "worksheets": [
  {
   "cells": [
    {
     "cell_type": "heading",
     "level": 1,
     "metadata": {},
     "source": [
      "Lists"
     ]
    },
    {
     "cell_type": "markdown",
     "metadata": {},
     "source": [
      "## Creating a list\n",
      "\n",
      "* A string is a sequence of characters\n",
      "* A list contains a sequence of any type\n",
      "* A list is denoted with brackets [ and ]\n",
      "* Can contain a nested list"
     ]
    },
    {
     "cell_type": "code",
     "collapsed": false,
     "input": [
      "mylist = [\"a\", \"b\", \"c\"]\n",
      "print (mylist)\n",
      "print (len(mylist))\n",
      "print (mylist[0])"
     ],
     "language": "python",
     "metadata": {},
     "outputs": []
    },
    {
     "cell_type": "code",
     "collapsed": false,
     "input": [
      "vocabulary = [\"iteration\", \"selection\", \"control\"]\n",
      "numbers = [17, 123]\n",
      "empty = []\n",
      "mixedlist = [\"hello\", 2.0, 5*2, [10, 20]]\n",
      "\n",
      "print (numbers)\n",
      "print (mixedlist)\n",
      "print (empty)\n",
      "newlist = [numbers, vocabulary,['test string', 'and' ,'another']]\n",
      "print (newlist)\n"
     ],
     "language": "python",
     "metadata": {},
     "outputs": []
    },
    {
     "cell_type": "code",
     "collapsed": false,
     "input": [
      "print (len(newlist))"
     ],
     "language": "python",
     "metadata": {},
     "outputs": []
    },
    {
     "cell_type": "markdown",
     "metadata": {},
     "source": [
      "## Common operations\n",
      "\n",
      "* `len` returns the length of the list \n",
      "* concatentation (`+`) and repetition (`*`)\n",
      "   * _creates new list objects_\n",
      "* access elements (`[i]` where `i=>0`)\n",
      "* slicing (`[i:j]` for elements between `i` and up to but not including `j`)\n",
      "* membership tests (`a in b`)\n"
     ]
    },
    {
     "cell_type": "code",
     "collapsed": false,
     "input": [
      "browncoats = [\"Zoe\", \"Malcolm\"]\n",
      "crew = [\"Hoban\", \"Kaylee\"]\n",
      "passengers = [\"River\", \"Shepherd\", \"Simon\", \"Inara\"]\n",
      "cargo = [\"Contrabrand\"]\n",
      "print (len(passengers))\n",
      "print (len(cargo))\n",
      "print('hello')"
     ],
     "language": "python",
     "metadata": {},
     "outputs": []
    },
    {
     "cell_type": "code",
     "collapsed": false,
     "input": [
      "firefly = browncoats + crew + passengers\n",
      "firefly"
     ],
     "language": "python",
     "metadata": {},
     "outputs": []
    },
    {
     "cell_type": "code",
     "collapsed": false,
     "input": [
      "firefly = firefly + cargo*2\n",
      "print (firefly)"
     ],
     "language": "python",
     "metadata": {},
     "outputs": []
    },
    {
     "cell_type": "code",
     "collapsed": false,
     "input": [
      "firefly[0]"
     ],
     "language": "python",
     "metadata": {},
     "outputs": []
    },
    {
     "cell_type": "code",
     "collapsed": false,
     "input": [
      "firefly[-3]"
     ],
     "language": "python",
     "metadata": {},
     "outputs": []
    },
    {
     "cell_type": "code",
     "collapsed": false,
     "input": [
      "print (firefly[1:3])\n",
      "firefly[1:3][0]"
     ],
     "language": "python",
     "metadata": {},
     "outputs": []
    },
    {
     "cell_type": "code",
     "collapsed": false,
     "input": [
      "if 'River' in firefly:\n",
      "    print (firefly)"
     ],
     "language": "python",
     "metadata": {},
     "outputs": []
    },
    {
     "cell_type": "code",
     "collapsed": false,
     "input": [
      "if 'River' not in browncoats:\n",
      "    print ('moo')"
     ],
     "language": "python",
     "metadata": {},
     "outputs": []
    },
    {
     "cell_type": "markdown",
     "metadata": {},
     "source": [
      "## Lists are mutable objects\n",
      "\n",
      ">Unlike strings, you can modify lists."
     ]
    },
    {
     "cell_type": "code",
     "collapsed": false,
     "input": [
      "# Replace a value\n",
      "firefly[1] = \"Kirk\"\n",
      "print (firefly)"
     ],
     "language": "python",
     "metadata": {},
     "outputs": []
    },
    {
     "cell_type": "markdown",
     "metadata": {},
     "source": [
      ">Del deletes elements"
     ]
    },
    {
     "cell_type": "code",
     "collapsed": false,
     "input": [
      "print(firefly)\n",
      "del firefly[0]\n",
      "print(firefly)"
     ],
     "language": "python",
     "metadata": {},
     "outputs": []
    },
    {
     "cell_type": "code",
     "collapsed": false,
     "input": [
      "del firefly[2:4]\n",
      "print(firefly)"
     ],
     "language": "python",
     "metadata": {},
     "outputs": []
    },
    {
     "cell_type": "code",
     "collapsed": false,
     "input": [
      "del firefly[-2:]\n",
      "print(firefly)"
     ],
     "language": "python",
     "metadata": {},
     "outputs": []
    },
    {
     "cell_type": "markdown",
     "metadata": {},
     "source": [
      "> Lists can be considered objects.\n",
      "**Objects** are like animals: they know how to do stuff (like eat and sleep), they know how to interact with others (like make children), and they have characteristics (like height, weight).\n",
      "\n",
      "> \"Knowing how to do stuff\" with itself is called a method. In this case \"append\" is a method which, when invoked, is an action that changes the characteristics (the data vector of the list itself)."
     ]
    },
    {
     "cell_type": "markdown",
     "metadata": {},
     "source": [
      "> Append is used to add new elements to the list"
     ]
    },
    {
     "cell_type": "code",
     "collapsed": false,
     "input": [
      "firefly.append(\"Reaver\")\n",
      "firefly.append([\"Reaver\", \"Spock\"]) # inserts a list\n",
      "print(firefly)\n"
     ],
     "language": "python",
     "metadata": {},
     "outputs": []
    },
    {
     "cell_type": "markdown",
     "metadata": {},
     "source": [
      "> Extending the list allows new elements from another list to be added"
     ]
    },
    {
     "cell_type": "code",
     "collapsed": false,
     "input": [
      "firefly.extend([\"Sulu\", \"McCoy\"]) \n",
      "print(firefly)"
     ],
     "language": "python",
     "metadata": {},
     "outputs": []
    },
    {
     "cell_type": "markdown",
     "metadata": {},
     "source": [
      "> Another way to extend a list is using the addition operator"
     ]
    },
    {
     "cell_type": "code",
     "collapsed": false,
     "input": [
      "firefly += [\"Uhura\"] # this is almost the same as extend but doesn't use a function call so its slightly faster\n",
      "print(firefly)"
     ],
     "language": "python",
     "metadata": {},
     "outputs": []
    },
    {
     "cell_type": "markdown",
     "metadata": {},
     "source": [
      "> We can also treat a list a bit like a queue, remove the last element "
     ]
    },
    {
     "cell_type": "code",
     "collapsed": false,
     "input": [
      "print(firefly)\n",
      "whatwaspopped = firefly.pop()\n",
      "print(whatwaspopped)"
     ],
     "language": "python",
     "metadata": {},
     "outputs": []
    },
    {
     "cell_type": "markdown",
     "metadata": {},
     "source": [
      "> ... or remove the first element (or any we like as indicated by the index)"
     ]
    },
    {
     "cell_type": "code",
     "collapsed": false,
     "input": [
      "firefly.pop(0)"
     ],
     "language": "python",
     "metadata": {},
     "outputs": []
    },
    {
     "cell_type": "markdown",
     "metadata": {},
     "source": [
      "> We can also insert elements at arbitrary points"
     ]
    },
    {
     "cell_type": "code",
     "collapsed": false,
     "input": [
      "firefly.insert(1, \"Zaphod\")\n",
      "print(firefly)"
     ],
     "language": "python",
     "metadata": {},
     "outputs": []
    },
    {
     "cell_type": "heading",
     "level": 2,
     "metadata": {},
     "source": [
      "Copying Lists"
     ]
    },
    {
     "cell_type": "code",
     "collapsed": false,
     "input": [
      "a = [1,2,3]\n",
      "print(a)"
     ],
     "language": "python",
     "metadata": {},
     "outputs": []
    },
    {
     "cell_type": "code",
     "collapsed": false,
     "input": [
      "b = a\n",
      "print (b)"
     ],
     "language": "python",
     "metadata": {},
     "outputs": []
    },
    {
     "cell_type": "code",
     "collapsed": false,
     "input": [
      "a[0] = 'change'\n",
      "print (a)\n",
      "print (b)"
     ],
     "language": "python",
     "metadata": {},
     "outputs": []
    },
    {
     "cell_type": "code",
     "collapsed": false,
     "input": [
      "a = [1,2,3]\n",
      "b = a[:] # clone a\n",
      "print (b)"
     ],
     "language": "python",
     "metadata": {},
     "outputs": []
    },
    {
     "cell_type": "code",
     "collapsed": false,
     "input": [
      "a[0] = 'test'\n",
      "print (a)\n",
      "print (b)"
     ],
     "language": "python",
     "metadata": {},
     "outputs": []
    },
    {
     "cell_type": "markdown",
     "metadata": {},
     "source": [
      "## Searching, sorting, & counting"
     ]
    },
    {
     "cell_type": "markdown",
     "metadata": {},
     "source": [
      "* sort a list in ascending or descending order\n",
      "* find the index of a given element\n",
      "* count the number of matching elements\n",
      "* remove a given element"
     ]
    },
    {
     "cell_type": "code",
     "collapsed": false,
     "input": [
      "v = [1, 3, 2, 3, 4, 2]\n",
      "v.sort()\n",
      "print(v)"
     ],
     "language": "python",
     "metadata": {},
     "outputs": []
    },
    {
     "cell_type": "markdown",
     "metadata": {},
     "source": [
      "> `reverse` is a keyword of the `.sort()` method"
     ]
    },
    {
     "cell_type": "code",
     "collapsed": false,
     "input": [
      "v.sort(reverse=True)\n",
      "print(v)"
     ],
     "language": "python",
     "metadata": {},
     "outputs": []
    },
    {
     "cell_type": "markdown",
     "metadata": {},
     "source": [
      "> `.sort()` changes the the list in place but does NOT return it"
     ]
    },
    {
     "cell_type": "code",
     "collapsed": false,
     "input": [
      "v = [1,1,1,1,5,5,3,2,4,2]\n",
      "test = v.sort()\n",
      "print (v)\n",
      "print (test)"
     ],
     "language": "python",
     "metadata": {},
     "outputs": []
    },
    {
     "cell_type": "markdown",
     "metadata": {},
     "source": [
      ">Count will return how many times something is featured in a list"
     ]
    },
    {
     "cell_type": "code",
     "collapsed": false,
     "input": [
      "print (v.count(1))\n",
      "print (v.count(2))\n",
      "print (v.count(3))"
     ],
     "language": "python",
     "metadata": {},
     "outputs": []
    },
    {
     "cell_type": "markdown",
     "metadata": {},
     "source": [
      ">Remove removes a value from the list but doesn't return it"
     ]
    },
    {
     "cell_type": "code",
     "collapsed": false,
     "input": [
      "num = v.remove(3)\n",
      "print (num)\n",
      "print (v)"
     ],
     "language": "python",
     "metadata": {},
     "outputs": []
    },
    {
     "cell_type": "heading",
     "level": 2,
     "metadata": {},
     "source": [
      "Iterating Over Lists"
     ]
    },
    {
     "cell_type": "markdown",
     "metadata": {},
     "source": [
      "Iterate over the items in the list can be done in a number of ways. "
     ]
    },
    {
     "cell_type": "markdown",
     "metadata": {},
     "source": [
      ">If you want to know the index of each item you can use enumerate()"
     ]
    },
    {
     "cell_type": "code",
     "collapsed": false,
     "input": [
      "a = ['cat', 'window', 'defenestrate']\n",
      "for x, val in enumerate(a):\n",
      "       print(x,val)"
     ],
     "language": "python",
     "metadata": {},
     "outputs": []
    },
    {
     "cell_type": "markdown",
     "metadata": {},
     "source": [
      ">Or if you don't care about the index, just use a for loop"
     ]
    },
    {
     "cell_type": "code",
     "collapsed": false,
     "input": [
      "for val in a:\n",
      "    print (val)"
     ],
     "language": "python",
     "metadata": {},
     "outputs": []
    },
    {
     "cell_type": "markdown",
     "metadata": {},
     "source": [
      ">Or you can create a for loop using the length of the list"
     ]
    },
    {
     "cell_type": "code",
     "collapsed": false,
     "input": [
      "for x in range(0, len(a)):\n",
      "    print(x,a[x]) "
     ],
     "language": "python",
     "metadata": {},
     "outputs": []
    },
    {
     "cell_type": "code",
     "collapsed": false,
     "input": [
      "a = ['Mary', 'had', 'a', 'little', 'lamb']\n",
      "for i in range(len(a)):\n",
      "    print (i, a[i])"
     ],
     "language": "python",
     "metadata": {},
     "outputs": []
    },
    {
     "cell_type": "markdown",
     "metadata": {},
     "source": [
      ">The range() function returns a sequence of numbers: from START to STOP by STEP"
     ]
    },
    {
     "cell_type": "code",
     "collapsed": false,
     "input": [
      "a = [1,2,3,4,5,6,7,8,9,10]\n",
      "print (a)\n",
      "for z in range(1, 10, 2): # from 1 to 10 each step is 2\n",
      "    print (a[z])"
     ],
     "language": "python",
     "metadata": {},
     "outputs": []
    },
    {
     "cell_type": "markdown",
     "metadata": {},
     "source": [
      "Iterating backwards is done with 'reversed()'"
     ]
    },
    {
     "cell_type": "code",
     "collapsed": false,
     "input": [
      "for z in range(1, 10, 2): # from 1 to 10 each step is 2\n",
      "    print (z)\n",
      "\n",
      "print ('backwards:')\n",
      "for z in reversed(range(1, 10, 2)): # from 1 to 10 each step is 2\n",
      "    print (z)"
     ],
     "language": "python",
     "metadata": {},
     "outputs": []
    },
    {
     "cell_type": "heading",
     "level": 2,
     "metadata": {},
     "source": [
      "Casting Back and Forth"
     ]
    },
    {
     "cell_type": "markdown",
     "metadata": {},
     "source": [
      "> Take a simple list"
     ]
    },
    {
     "cell_type": "code",
     "collapsed": true,
     "input": [
      "a = [1,2,3,(\"b\",1)]\n",
      "print (a)\n",
      "print (type(a))"
     ],
     "language": "python",
     "metadata": {
      "slideshow": {
       "slide_type": "fragment"
      }
     },
     "outputs": []
    },
    {
     "cell_type": "markdown",
     "metadata": {},
     "source": [
      "> Convert it to a tuple (immutable list -- a list with values you can't change)"
     ]
    },
    {
     "cell_type": "code",
     "collapsed": false,
     "input": [
      "b = tuple(a)\n",
      "print (b)\n",
      "print (type(b))"
     ],
     "language": "python",
     "metadata": {
      "slideshow": {
       "slide_type": "fragment"
      }
     },
     "outputs": []
    },
    {
     "cell_type": "markdown",
     "metadata": {},
     "source": [
      "> Convert it back to a list"
     ]
    },
    {
     "cell_type": "code",
     "collapsed": false,
     "input": [
      "c = list(b)\n",
      "print (c)\n",
      "print (type(c))"
     ],
     "language": "python",
     "metadata": {
      "slideshow": {
       "slide_type": "fragment"
      }
     },
     "outputs": []
    },
    {
     "cell_type": "markdown",
     "metadata": {},
     "source": [
      "> Convert it to a set (an unordered collection of unique elements)"
     ]
    },
    {
     "cell_type": "code",
     "collapsed": false,
     "input": [
      "d = set(a)\n",
      "print (d)\n",
      "print (type(d))"
     ],
     "language": "python",
     "metadata": {
      "slideshow": {
       "slide_type": "fragment"
      }
     },
     "outputs": []
    },
    {
     "cell_type": "markdown",
     "metadata": {},
     "source": [
      "> Make a list out of a set"
     ]
    },
    {
     "cell_type": "code",
     "collapsed": false,
     "input": [
      "print (set('spam'))\n",
      "print (list(set(\"spam\")))"
     ],
     "language": "python",
     "metadata": {
      "slideshow": {
       "slide_type": "fragment"
      }
     },
     "outputs": []
    },
    {
     "cell_type": "markdown",
     "metadata": {},
     "source": [
      "> Make a list out of a string"
     ]
    },
    {
     "cell_type": "code",
     "collapsed": false,
     "input": [
      "list(\"abracadabra\")"
     ],
     "language": "python",
     "metadata": {},
     "outputs": []
    },
    {
     "cell_type": "markdown",
     "metadata": {
      "slideshow": {
       "slide_type": "fragment"
      }
     },
     "source": [
      "> casting only affects top-level structure, not the elements "
     ]
    },
    {
     "cell_type": "markdown",
     "metadata": {},
     "source": [
      "## The split function\n",
      ">VERY useful. Split strings based on a delimeter (e.g. split on \" \", or \",\", or \"\\n\")"
     ]
    },
    {
     "cell_type": "code",
     "collapsed": false,
     "input": [
      "\"Kirk Spock  McCoy\".split()"
     ],
     "language": "python",
     "metadata": {},
     "outputs": []
    },
    {
     "cell_type": "markdown",
     "metadata": {},
     "source": [
      "> Then you can join it back together with a delimter"
     ]
    },
    {
     "cell_type": "code",
     "collapsed": false,
     "input": [
      "''.join([\"1\",\"2\",\"3\"])"
     ],
     "language": "python",
     "metadata": {},
     "outputs": []
    },
    {
     "cell_type": "code",
     "collapsed": false,
     "input": [
      "text = \"These,are,comma,seperated\"\n",
      "print (text)\n",
      "textlist = text.split(\",\")\n",
      "print (textlist)\n",
      "print (\" \".join(textlist))\n",
      "print (\"\\t\".join(textlist))"
     ],
     "language": "python",
     "metadata": {},
     "outputs": []
    },
    {
     "cell_type": "markdown",
     "metadata": {
      "slideshow": {
       "slide_type": "slide"
      }
     },
     "source": [
      "## List Comprehension ##\n",
      "\n",
      "You can create lists \"on the fly\" by asking simple questions of other iterateable data structures. Although the following examples are somewhat trivial, this can be extremely powerful and is a very useful tool."
     ]
    },
    {
     "cell_type": "markdown",
     "metadata": {
      "slideshow": {
       "slide_type": "fragment"
      }
     },
     "source": [
      ">example: I want a list of squared numbers"
     ]
    },
    {
     "cell_type": "code",
     "collapsed": false,
     "input": [
      "# You can make the list of squared numbers using a loop:\n",
      "mylist = []\n",
      "for num in range(10):\n",
      "    mylist.append(num**2)\n",
      "print (mylist)"
     ],
     "language": "python",
     "metadata": {
      "slideshow": {
       "slide_type": "fragment"
      }
     },
     "outputs": []
    },
    {
     "cell_type": "code",
     "collapsed": false,
     "input": [
      "# or you can do it inline like so:\n",
      "mylist= [x**2 for x in range(10)]\n",
      "print (mylist)"
     ],
     "language": "python",
     "metadata": {
      "slideshow": {
       "slide_type": "fragment"
      }
     },
     "outputs": []
    },
    {
     "cell_type": "markdown",
     "metadata": {
      "slideshow": {
       "slide_type": "fragment"
      }
     },
     "source": [
      ">example: I want a list of all mesons whose masses are between 100 and 1000 MeV"
     ]
    },
    {
     "cell_type": "code",
     "collapsed": false,
     "input": [
      "particles = \\\n",
      "[{\"name\":\"\u03c0+\"  ,\"mass\": 139.57018}, {\"name\":\"\u03c00\"  ,\"mass\": 134.9766}, \n",
      " {\"name\":\"\u03b75\"  ,\"mass\": 47.853}, {\"name\":\"\u03b7\u2032(958)\",\"mass\": 957.78}, \n",
      " {\"name\":\"\u03b7c(1S)\", \"mass\": 2980.5}, {\"name\": \"\u03b7b(1S)\",\"mass\": 9388.9}, \n",
      " {\"name\":\"K+\",  \"mass\": 493.677}, {\"name\":\"K0\"  ,\"mass\": 497.614}, \n",
      " {\"name\":\"K0S\" ,\"mass\":  497.614}, {\"name\":\"K0L\" ,\"mass\":  497.614},\n",
      " {\"name\":\"D+\"  ,\"mass\": 1869.62}, {\"name\":\"D0\"  ,\"mass\": 1864.84},\n",
      " {\"name\":\"D+s\" ,\"mass\":  1968.49}, {\"name\":\"B+\"  ,\"mass\": 5279.15},\n",
      " {\"name\":\"B0\"  ,\"mass\": 5279.5}, {\"name\":\"B0s\" ,\"mass\":  5366.3},\n",
      " {\"name\":\"B+c\" ,\"mass\":    6277}]\n",
      "\n",
      "# data source: http://en.wikipedia.org/wiki/List_of_mesons\n",
      "\n",
      "my_mesons = [ (x['name'],x['mass']) for x in particles if x['mass'] <= 1000.0 and x['mass'] >= 100.0]\n",
      "print (my_mesons)"
     ],
     "language": "python",
     "metadata": {
      "slideshow": {
       "slide_type": "fragment"
      }
     },
     "outputs": []
    },
    {
     "cell_type": "code",
     "collapsed": false,
     "input": [
      "# get the average\n",
      "tot = 0.0\n",
      "for x in my_mesons: \n",
      "    tot += x[1]\n",
      "print (\"The average meson mass in this range is \" + str(tot/len(my_mesons)) + \" MeV/c^2.\")"
     ],
     "language": "python",
     "metadata": {
      "slideshow": {
       "slide_type": "fragment"
      }
     },
     "outputs": []
    },
    {
     "cell_type": "code",
     "collapsed": false,
     "input": [
      "my_mesons[0][0]"
     ],
     "language": "python",
     "metadata": {
      "slideshow": {
       "slide_type": "fragment"
      }
     },
     "outputs": []
    },
    {
     "cell_type": "markdown",
     "metadata": {
      "slideshow": {
       "slide_type": "fragment"
      }
     },
     "source": [
      " &nbsp;"
     ]
    }
   ],
   "metadata": {}
  }
 ]
}