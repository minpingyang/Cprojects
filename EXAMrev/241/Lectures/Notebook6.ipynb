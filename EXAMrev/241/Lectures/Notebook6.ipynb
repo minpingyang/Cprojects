{
 "cells": [
  {
   "cell_type": "markdown",
   "metadata": {},
   "source": [
    "# Files"
   ]
  },
  {
   "cell_type": "markdown",
   "metadata": {},
   "source": [
    "You met these in COMP103.\n",
    "\n",
    "While a program is running, its data is stored in random access memory (RAM). RAM is fast and inexpensive, but it is also volatile, which means that when the program ends, or the computer shuts down, data in RAM disappears. To make data available the next time the computer is turned on and the program is started, it has to be written to a non-volatile storage medium, such a hard drive, usb drive, or CD-RW.\n",
    "\n",
    "Data on non-volatile storage media is stored in named locations on the media called files. By reading and writing files, programs can save information between program runs.\n",
    "\n",
    "Working with files is a lot like working with a notebook. To use a notebook, it has to be opened. When done, it has to be closed. While the notebook is open, it can either be read from or written to. In either case, the notebook holder knows where they are. They can read the whole notebook in its natural order or they can skip around.\n",
    "\n",
    "All of this applies to files as well. To open a file, we specify its name and indicate whether we want to read or write.\n"
   ]
  },
  {
   "cell_type": "markdown",
   "metadata": {},
   "source": [
    "###  Writing our first file\n",
    "\n",
    "Let’s begin with a simple program that writes three lines of text into a file (the file will be created in the same directory you were in when you started Python from the command line) :"
   ]
  },
  {
   "cell_type": "code",
   "execution_count": null,
   "metadata": {
    "collapsed": false
   },
   "outputs": [],
   "source": [
    "myfile = open(\"test.txt\", \"w\")\n",
    "myfile.write(\"My first file written from Python\\n\") # python will convert \\n to os.linesep\n",
    "myfile.write(\"---------------------------------\\n\")\n",
    "myfile.write(\"Hello, world!\\n\")\n",
    "myfile.close()"
   ]
  },
  {
   "cell_type": "code",
   "execution_count": null,
   "metadata": {
    "collapsed": false
   },
   "outputs": [],
   "source": [
    "%cat test.txt "
   ]
  },
  {
   "cell_type": "markdown",
   "metadata": {},
   "source": [
    "\n",
    "Opening a file creates what we call a file handle. In this example, the variable myfile refers to the new handle object. Our program calls methods on the handle, and this makes changes to the actual file which is usually located on our disk.\n",
    "\n",
    "On line 1, the open function takes two arguments. The first is the name of the file, and the second is the mode. Mode \"w\" means that we are opening the file for writing.\n",
    "\n",
    "With mode \"w\", if there is no file named test.txt on the disk, it will be created. If there already is one, it will be replaced by the file we are writing.\n",
    "\n",
    "To put data in the file we invoke the write method on the handle, shown in lines 2, 3 and 4 above. In bigger programs, lines 2–4 will usually be replaced by a loop that writes many more lines into the file.\n",
    "\n",
    "Closing the file handle (line 5) tells the system that we are done writing and makes the disk file available for reading by other programs (or by our own program)."
   ]
  },
  {
   "cell_type": "markdown",
   "metadata": {},
   "source": [
    "### Reading a file line-at-a-time\n",
    "\n",
    "Now that the file exists on our disk, we can open it, this time for reading, and read all the lines in the file, one at a time. This time, the mode argument is \"r\" for reading:"
   ]
  },
  {
   "cell_type": "markdown",
   "metadata": {},
   "source": [
    "### The longish way to do it:"
   ]
  },
  {
   "cell_type": "code",
   "execution_count": null,
   "metadata": {
    "collapsed": false
   },
   "outputs": [],
   "source": [
    "fin = open('test.txt', \"r\")\n",
    "for line in fin:\n",
    "    print (line, end=\"\") # suppress end of line \n",
    "fin.close()"
   ]
  },
  {
   "cell_type": "markdown",
   "metadata": {},
   "source": [
    "### The nicer way to do it:\n",
    "Use the 'with' key word. It handles closing the file after use."
   ]
  },
  {
   "cell_type": "code",
   "execution_count": null,
   "metadata": {
    "collapsed": false
   },
   "outputs": [],
   "source": [
    "with open('test.txt', \"r\") as myfile:\n",
    "    for line in myfile:\n",
    "        print (line, end=\"\")"
   ]
  },
  {
   "cell_type": "markdown",
   "metadata": {},
   "source": [
    "This is a handy pattern for our toolbox. \n",
    "\n",
    "In bigger programs, we’d squeeze more extensive logic into the body of the loop.\n",
    "\n",
    "Note that the ```print``` command suppresses the newline character that print usually appends to our strings. Why? This is because the string already has its own newline. "
   ]
  },
  {
   "cell_type": "markdown",
   "metadata": {},
   "source": [
    "### Turning a file into a list of lines\n",
    "\n",
    "It is often useful to fetch data from a disk file and turn it into a list of lines. Suppose we have a file containing our friends and their email addresses, one per line in the file. But we’d like the lines sorted into alphabetical order. A good plan is to read everything into a list of lines, then sort the list, and then write the sorted list back to another file:"
   ]
  },
  {
   "cell_type": "code",
   "execution_count": null,
   "metadata": {
    "collapsed": false
   },
   "outputs": [],
   "source": [
    "# first lets create a file to sort, note that if it already exists we overwrite it!\n",
    "with open(\"friends.txt\", \"w\") as myfile:\n",
    "    myfile.write(\"Harley\\n\")\n",
    "    myfile.write(\"Olivia\\n\")\n",
    "    myfile.write(\"Charlotte\\n\")\n",
    "    myfile.write(\"Emily\\n\")\n",
    "    myfile.write(\"Isla\\n\")\n",
    "    myfile.write(\"Vincent\\n\")\n",
    "    myfile.write(\"Phoenix\\n\")\n",
    "    myfile.write(\"Cohen\\n\")"
   ]
  },
  {
   "cell_type": "code",
   "execution_count": null,
   "metadata": {
    "collapsed": false
   },
   "outputs": [],
   "source": [
    "%cat friends.txt"
   ]
  },
  {
   "cell_type": "code",
   "execution_count": 11,
   "metadata": {
    "collapsed": false
   },
   "outputs": [
    {
     "name": "stdout",
     "output_type": "stream",
     "text": [
      "['Harley\\n', 'Olivia\\n', 'Charlotte\\n', 'Emily\\n', 'Isla\\n', 'Vincent\\n', 'Phoenix\\n', 'Cohen\\n']\n"
     ]
    }
   ],
   "source": [
    "# now lets sort it\n",
    "xs = ''\n",
    "with open(\"friends.txt\", \"r\") as f:\n",
    "    xs = f.readlines()\n",
    "\n",
    "print (xs)\n",
    "xs.sort()\n",
    "\n",
    "with open(\"sortedfriends.txt\", \"w\") as g:\n",
    "    for v in xs:\n",
    "        g.write(v)"
   ]
  },
  {
   "cell_type": "code",
   "execution_count": 12,
   "metadata": {
    "collapsed": false
   },
   "outputs": [
    {
     "name": "stdout",
     "output_type": "stream",
     "text": [
      "Charlotte\r\n",
      "Cohen\r\n",
      "Emily\r\n",
      "Harley\r\n",
      "Isla\r\n",
      "Olivia\r\n",
      "Phoenix\r\n",
      "Vincent\r\n"
     ]
    }
   ],
   "source": [
    "%cat sortedfriends.txt"
   ]
  },
  {
   "cell_type": "markdown",
   "metadata": {},
   "source": [
    "*Useful tip!*\n",
    "\n",
    "The readlines method in line 2 reads all the lines and returns a list of the strings.\n",
    "\n",
    "We could have used the template from the previous section to read each line one-at-a-time, and to build up the list ourselves, but it is a lot easier to use the method that the Python implementors gave us!"
   ]
  },
  {
   "cell_type": "markdown",
   "metadata": {},
   "source": [
    "### Reading the whole file at once\n",
    "\n",
    "Another way of working with text files is to read the complete contents of the file into a string, and then to use our string-processing skills to work with the contents.\n",
    "\n",
    "We’d normally use this method of processing files if we were not interested in the line structure of the file. \n",
    "\n",
    "We read the whole file into a string and the use the split method to covert it into a list of words."
   ]
  },
  {
   "cell_type": "code",
   "execution_count": 14,
   "metadata": {
    "collapsed": false
   },
   "outputs": [
    {
     "name": "stdout",
     "output_type": "stream",
     "text": [
      "Harley\n",
      "Olivia\n",
      "Charlotte\n",
      "Emily\n",
      "Isla\n",
      "Vincent\n",
      "Phoenix\n",
      "Cohen\n",
      "\n",
      "There are 8 words in the file.\n",
      "Harley\n",
      "Olivia\n",
      "Charlotte\n",
      "Emily\n",
      "Isla\n",
      "Vincent\n",
      "Phoenix\n",
      "Cohen\n"
     ]
    }
   ],
   "source": [
    "# this loads the entire file into a string\n",
    "with open(\"friends.txt\") as f:\n",
    "    content = f.read()\n",
    "\n",
    "print(content)\n",
    "\n",
    "words = content.split()\n",
    "print(\"There are {0} words in the file.\".format(len(words)))\n",
    "for word in words:\n",
    "    print(word)"
   ]
  },
  {
   "cell_type": "markdown",
   "metadata": {},
   "source": [
    "Notice here that we left out the \"r\" mode in line 1. By default, if we don’t supply the mode, Python opens the file for reading."
   ]
  },
  {
   "cell_type": "markdown",
   "metadata": {},
   "source": [
    "Your file paths may need to be explicitly named.\n",
    "\n",
    "In the above example, we’re assuming that the file somefile.txt is in the same directory as your Python source code. If this is not the case, you may need to provide a full or a relative path to the file. On Windows, a full path could look like \"C:\\\\temp\\\\somefile.txt\", while on a Unix system the full path could be \"/home/jimmy/somefile.txt\"."
   ]
  },
  {
   "cell_type": "markdown",
   "metadata": {},
   "source": [
    "### Directories\n",
    "\n",
    "Files on non-volatile storage media are organized by a set of rules known as a file system. File systems are made up of files and directories, which are containers for both files and other directories.\n",
    "\n",
    "When we create a new file by opening it and writing, the new file goes in the current directory (wherever we were when we ran the program). Similarly, when we open a file for reading, Python looks for it in the current directory.\n",
    "\n",
    "If we want to open a file somewhere else, we have to specify the path to the file, which is the name of the directory (or folder) where the file is located:"
   ]
  },
  {
   "cell_type": "code",
   "execution_count": 15,
   "metadata": {
    "collapsed": false
   },
   "outputs": [
    {
     "name": "stdout",
     "output_type": "stream",
     "text": [
      "<class 'list'>\n",
      "['Harley\\n', 'Olivia\\n', 'Charlotte\\n', 'Emily\\n', 'Isla\\n']\n"
     ]
    }
   ],
   "source": [
    "with open(\"/home/ryan/Dropbox/University/Lecturing/NWEN241/notebooks/friends.txt\", \"r\") as wordsfile:\n",
    "    wordlist = wordsfile.readlines()\n",
    "    print(type(wordlist))\n",
    "    print(wordlist[:5])"
   ]
  },
  {
   "cell_type": "markdown",
   "metadata": {},
   "source": [
    "This (Unix) example opens a file named friends that resides in a directory named notebooks, which resides somewhere in my filesystem. It then reads in each line into a list using readlines, and prints out the first 5 elements from that list.\n",
    "\n",
    "A Windows path might be \"c:/temp/words.txt\" or \"c:\\\\temp\\\\words.txt\". Because backslashes are used to escape things like newlines and tabs, we need to write two backslashes in a literal string to get one! So the length of these two strings is the same!\n",
    "\n",
    "We cannot use / or \\ as part of a filename; they are reserved as a delimiter between directory and filenames.\n",
    "\n",
    "The file /home/ryan/Dropbox/University/Lecturing/NWEN241/notebooks/friends.txt should exist and contains a list of words."
   ]
  },
  {
   "cell_type": "markdown",
   "metadata": {},
   "source": [
    "### OS Module\n",
    "\n",
    "Provides functionality for determining current directory and navigating between directories in an operating system independnt manner."
   ]
  },
  {
   "cell_type": "code",
   "execution_count": 16,
   "metadata": {
    "collapsed": false
   },
   "outputs": [
    {
     "name": "stdout",
     "output_type": "stream",
     "text": [
      "/home/ryan/Dropbox/University/Lecturing/NWEN241/notebooks\n"
     ]
    }
   ],
   "source": [
    "import os\n",
    "cwd = os.getcwd()\n",
    "print (cwd)"
   ]
  },
  {
   "cell_type": "markdown",
   "metadata": {},
   "source": [
    "Useful functions:\n",
    "\n",
    "```abspath``` returns the absolute path to a given file.\n",
    "\n",
    "```os.path.exists``` checks if the file exists."
   ]
  },
  {
   "cell_type": "code",
   "execution_count": 17,
   "metadata": {
    "collapsed": false
   },
   "outputs": [
    {
     "data": {
      "text/plain": [
       "'/home/ryan/Dropbox/University/Lecturing/NWEN241/notebooks/test.txt'"
      ]
     },
     "execution_count": 17,
     "metadata": {},
     "output_type": "execute_result"
    }
   ],
   "source": [
    "os.path.abspath(\"test.txt\")"
   ]
  },
  {
   "cell_type": "code",
   "execution_count": 18,
   "metadata": {
    "collapsed": false
   },
   "outputs": [
    {
     "data": {
      "text/plain": [
       "True"
      ]
     },
     "execution_count": 18,
     "metadata": {},
     "output_type": "execute_result"
    }
   ],
   "source": [
    "os.path.exists(\"test.txt\")"
   ]
  },
  {
   "cell_type": "code",
   "execution_count": 19,
   "metadata": {
    "collapsed": false
   },
   "outputs": [
    {
     "data": {
      "text/plain": [
       "False"
      ]
     },
     "execution_count": 19,
     "metadata": {},
     "output_type": "execute_result"
    }
   ],
   "source": [
    "os.path.exists(\"bad_file\")"
   ]
  },
  {
   "cell_type": "markdown",
   "metadata": {},
   "source": [
    "### Handling Exceptions\n",
    "\n",
    "What if a file doesn't exist?\n",
    "\n",
    "We can catch errors if we wrap it in a try and except clause. \n",
    "\n",
    "In this example we don't care exactly what the error is ..."
   ]
  },
  {
   "cell_type": "code",
   "execution_count": 20,
   "metadata": {
    "collapsed": false
   },
   "outputs": [
    {
     "name": "stdout",
     "output_type": "stream",
     "text": [
      "My first file written from Python\n",
      "\n",
      "---------------------------------\n",
      "\n",
      "Hello, world!\n",
      "\n",
      "Something went wrong.\n"
     ]
    }
   ],
   "source": [
    "try:\n",
    "    fin = open('test.txt', \"r\")\n",
    "    for line in fin:\n",
    "        print (line)\n",
    "    line.this_is_a_bad_methid()\n",
    "    fin.close()\n",
    "except:\n",
    "    print(\"Something went wrong.\")"
   ]
  },
  {
   "cell_type": "code",
   "execution_count": 21,
   "metadata": {
    "collapsed": false
   },
   "outputs": [
    {
     "name": "stdout",
     "output_type": "stream",
     "text": [
      "My first file written from Python\n",
      "\n",
      "---------------------------------\n",
      "\n",
      "Hello, world!\n",
      "\n",
      "Something went wrong.\n",
      "'str' object has no attribute 'this_is_a_bad_methid'\n"
     ]
    }
   ],
   "source": [
    "try:\n",
    "    fin = open('test.txt', \"r\")\n",
    "    for line in fin:\n",
    "        print (line)\n",
    "    line.this_is_a_bad_methid()\n",
    "    fin.close()\n",
    "except Exception as e: \n",
    "    print(\"Something went wrong.\")\n",
    "    print (e)"
   ]
  },
  {
   "cell_type": "markdown",
   "metadata": {},
   "source": [
    "If we try to open a file that doesn’t exist, we get an error:"
   ]
  },
  {
   "cell_type": "markdown",
   "metadata": {},
   "source": [
    "### Structured Text Files\n",
    "\n",
    "With simple text files, the only level of organization is the line. Sometimes, you want more structure than that. You might want to save data for our program to use later, or send data to another program.\n",
    "\n",
    "There are many formats, and here’s how you can distinguish them:\n",
    "\n",
    "* A separator, or delimiter, character like tab ('\\t'), comma (','), or vertical bar ('|'). This is an example of the comma-separated values (CSV) format. '<' and '>' around tags. Examples include XML and HTML.\n",
    "* Punctuation. An example is JavaScript Object Notation (JSON).\n",
    "* Indentation. An example is YAML (which depending on the source you use means “YAML Ain’t Markup Language;” you’ll need to research that one yourself).\n",
    "* Miscellaneous, such as configuration files for programs. \n",
    "\n",
    "Each of these structured file formats can be read and written by at least one Python module.\n",
    "\n",
    "Let's look at ONE example : CSV"
   ]
  },
  {
   "cell_type": "markdown",
   "metadata": {},
   "source": [
    "#### CSV\n",
    "\n",
    "Delimited files are often used as an exchange format for spreadsheets and databases. You could read CSV files manually, a line at a time, splitting each line into fields at comma separators, and adding the results to data structures such as lists and dictionaries. But it’s better to use the standard csv module, because parsing these files can get more complicated than you think.\n",
    "\n",
    "* Some have alternate delimiters besides a comma: '|' and '\\t' (tab) are common.\n",
    "* Some have escape sequences. If the delimiter character can occur within a field, the entire field might be surrounded by quote characters or preceded by some escape character.\n",
    "* Files have different line-ending characters. Unix uses '\\n', Microsoft uses '\\r\\n', and Apple used to use '\\r' but now uses '\\n'.\n",
    "* There can be column names in the first line. \n",
    "\n",
    "First, we’ll see how to read and write a list of rows, each containing a list of columns:"
   ]
  },
  {
   "cell_type": "code",
   "execution_count": 22,
   "metadata": {
    "collapsed": false
   },
   "outputs": [
    {
     "name": "stdout",
     "output_type": "stream",
     "text": [
      "[['Doctor', 'No'], ['Rosa', 'Klebb'], ['Mister', 'Big'], ['Auric', 'Goldfinger'], ['Ernst', 'Blofeld']]\n",
      "Doctor,No\r",
      "\r\n",
      "Rosa,Klebb\r",
      "\r\n",
      "Mister,Big\r",
      "\r\n",
      "Auric,Goldfinger\r",
      "\r\n",
      "Ernst,Blofeld\r",
      "\r\n"
     ]
    }
   ],
   "source": [
    "import csv\n",
    "villains = [['Doctor', 'No'],['Rosa', 'Klebb'], ['Mister', 'Big'], ['Auric', 'Goldfinger'], ['Ernst', 'Blofeld'] ]\n",
    "print(villains)\n",
    "with open('villains.csv', 'w') as fout:  # a context manager\n",
    "    csvout = csv.writer(fout)\n",
    "    csvout.writerows(villains)\n",
    "%cat villains.csv"
   ]
  },
  {
   "cell_type": "markdown",
   "metadata": {},
   "source": [
    "Now, we’ll try to read it back in:"
   ]
  },
  {
   "cell_type": "code",
   "execution_count": 23,
   "metadata": {
    "collapsed": false
   },
   "outputs": [
    {
     "name": "stdout",
     "output_type": "stream",
     "text": [
      "['Doctor', 'No']\n",
      "['Rosa', 'Klebb']\n",
      "['Mister', 'Big']\n",
      "['Auric', 'Goldfinger']\n",
      "['Ernst', 'Blofeld']\n",
      "[['Doctor', 'No'], ['Rosa', 'Klebb'], ['Mister', 'Big'], ['Auric', 'Goldfinger'], ['Ernst', 'Blofeld']]\n"
     ]
    }
   ],
   "source": [
    "import csv\n",
    "villains = []\n",
    "with open('villains.csv', 'r') as fin:  # context manager\n",
    "    cin = csv.reader(fin)\n",
    "    for row in cin:\n",
    "        print(row)\n",
    "        villains.extend([row])\n",
    "print(villains)"
   ]
  },
  {
   "cell_type": "markdown",
   "metadata": {},
   "source": [
    "The data can be a list of dictionaries rather than a list of lists. Let’s read the villains file again, this time using the new ```DictReader()``` function and specifying the column names:"
   ]
  },
  {
   "cell_type": "code",
   "execution_count": 24,
   "metadata": {
    "collapsed": false
   },
   "outputs": [
    {
     "name": "stdout",
     "output_type": "stream",
     "text": [
      "{'first': 'Doctor', 'last': 'No'}\n",
      "{'first': 'Rosa', 'last': 'Klebb'}\n",
      "{'first': 'Mister', 'last': 'Big'}\n",
      "{'first': 'Auric', 'last': 'Goldfinger'}\n",
      "{'first': 'Ernst', 'last': 'Blofeld'}\n",
      "[{'first': 'Doctor', 'last': 'No'}, {'first': 'Rosa', 'last': 'Klebb'}, {'first': 'Mister', 'last': 'Big'}, {'first': 'Auric', 'last': 'Goldfinger'}, {'first': 'Ernst', 'last': 'Blofeld'}]\n"
     ]
    }
   ],
   "source": [
    "import csv\n",
    "villains = []\n",
    "with open('villains.csv', 'r') as fin:\n",
    "    cin = csv.DictReader(fin, fieldnames=['first', 'last'])\n",
    "    for row in cin:\n",
    "        print(row)\n",
    "        villains.extend([row])\n",
    "print(villains)"
   ]
  },
  {
   "cell_type": "code",
   "execution_count": 25,
   "metadata": {
    "collapsed": false
   },
   "outputs": [
    {
     "data": {
      "text/plain": [
       "'Blofeld'"
      ]
     },
     "execution_count": 25,
     "metadata": {},
     "output_type": "execute_result"
    }
   ],
   "source": [
    "villains[4]['last']"
   ]
  },
  {
   "cell_type": "markdown",
   "metadata": {},
   "source": [
    "Let’s rewrite the CSV file by using the new ```DictWriter()``` function. We’ll also call writeheader() to write an initial line of column names to the CSV file:"
   ]
  },
  {
   "cell_type": "code",
   "execution_count": 26,
   "metadata": {
    "collapsed": false
   },
   "outputs": [],
   "source": [
    "import csv\n",
    "villains = [{'first': 'Doctor', 'last': 'No'}, {'first': 'Rosa', 'last': 'Klebb'},{'first': 'Mister', 'last': 'Big'},{'first': 'Auric', 'last': 'Goldfinger'},{'first': 'Ernst', 'last': 'Blofeld'},]\n",
    "with open('villains.txt', 'w') as fout:\n",
    "    cout = csv.DictWriter(fout, ['first', 'last'])\n",
    "    cout.writeheader()\n",
    "    cout.writerows(villains)\n",
    "%more villains.txt"
   ]
  },
  {
   "cell_type": "markdown",
   "metadata": {},
   "source": [
    "That creates a villains file with a header line:\n",
    "\n",
    "```first,last\n",
    "Doctor,No\n",
    "Rosa,Klebb\n",
    "Mister,Big\n",
    "Auric,Goldfinger\n",
    "Ernst,Blofeld```"
   ]
  },
  {
   "cell_type": "markdown",
   "metadata": {},
   "source": [
    "### What about fetching something from the web?\n",
    "\n",
    "The Python libraries are pretty messy in places. But here is a very simple example that copies the contents at some web URL to a local file."
   ]
  },
  {
   "cell_type": "code",
   "execution_count": 27,
   "metadata": {
    "collapsed": false
   },
   "outputs": [],
   "source": [
    "import urllib.request\n",
    "\n",
    "url = \"https://ecs.victoria.ac.nz/foswiki/pub/Courses/NWEN241_2015T1/LectureSchedule/rfc2616.txt\"\n",
    "destination_filename = \"rfc2616.txt\"\n",
    "\n",
    "urllib.request.urlretrieve(url, destination_filename)\n",
    "%more rfc2616.txt"
   ]
  },
  {
   "cell_type": "markdown",
   "metadata": {},
   "source": [
    "The urlretrieve function — just one call — could be used to download any kind of content from the Internet.\n",
    "\n",
    "We’ll need to get a few things right before this works:\n",
    "\n",
    "* The resource we’re trying to fetch must exist! Check this using a browser.\n",
    "\n",
    "* We’ll need permission to write to the destination filename, and the file will be created in the “current directory” - i.e. the same folder that the Python program is saved in.\n",
    "\n",
    "* ECS use a proxy server for requests that go beyond our local web (all our requests go via this, it avoids downloading things twice). We've avoided that complication by using a file we placed with ECS. This isn't a problem when connected via ITS wifi.\n",
    "\n",
    "Here is a slightly different example. Rather than save the web resource to our local disk, we read it directly into a string, and return it:"
   ]
  },
  {
   "cell_type": "code",
   "execution_count": 28,
   "metadata": {
    "collapsed": false,
    "scrolled": true
   },
   "outputs": [
    {
     "name": "stdout",
     "output_type": "stream",
     "text": [
      "\n",
      "\n",
      "\n",
      "\n",
      "<!DOCTYPE html PUBLIC \"-//W3C//DTD XHTML 1.0 Transitional//EN\" \"http://www.w3.org/TR/xhtml1/DTD/xhtml1-transitional.dtd\"><html xmlns=\"http://www.w3.org/1999/xhtml\" xml:lang=\"en-us\" lang=\"en-us\">\n",
      "\n",
      "<head>\n",
      "\n",
      "\n",
      "\n",
      "<title>Login | ECS | Victoria University of Wellington</title>\n",
      "\n",
      "<meta http-equiv=\"Content-Type\" content=\"text/html; charset=utf-8\" />\n",
      "\n",
      "<link rel=\"icon\" href=\"/favicon.ico\" type=\"image/x-icon\" />\n",
      "\n",
      "<link rel=\"shortcut icon\" href=\"/favicon.ico\" type=\"image/x-icon\" />\n",
      "\n",
      "<meta name=\"TEXT_NUM_TOPICS\" content=\"Number of topics:\" />\n",
      "\n",
      "<meta name=\"TEXT_MODIFY_SEARCH\" content=\"Modify search\" />\n",
      "\n",
      "<link rel=\"stylesheet\" type=\"text/css\" href=\"https://www.victoria.ac.nz/__data/assets/file/0014/86/reset.css\" media=\"all\" />\n",
      "\n",
      "<link rel=\"stylesheet\" type=\"text/css\" href=\"https://www.victoria.ac.nz/__data/assets/file/0009/90/subsite-layout.css\" media=\"screen\" />\n",
      "\n",
      "<link rel=\"stylesheet\" type=\"text/css\" href=\"https://www.victoria.ac.nz/__data/assets/file/0016/88/subsite-base.css\" media=\"all\" />\n",
      "\n",
      "<link rel=\"stylesheet\" type=\"text/css\" href=\"https://www.victoria.ac.nz/__data/assets/file/0012/84/base-print.css\" media=\"print\" />\n",
      "\n",
      "<link rel=\"stylesheet\" type=\"text/css\" href=\"/ecs/assets/css/base.css\" />\n",
      "\n",
      "<link rel=\"stylesheet\" type=\"text/css\" href=\"/ecs/assets/css/foswiki.css\" />\n",
      "\n",
      "<link rel=\"stylesheet\" type=\"text/css\" href=\"https://www.victoria.ac.nz/__data/assets/file/0008/89351/nav.css\" />\n",
      "\n",
      "<link rel=\"stylesheet\" type=\"text/css\" href=\"https://www.victoria.ac.nz/__data/assets/file/0010/89353/components.css\" />\n",
      "\n",
      "\n",
      "\n",
      "<!--[if IE 5]>\n",
      "\n",
      "<link href=\"https://www.victoria.ac.nz/__data/assets/file/0015/339/ie5.css\" rel=\"stylesheet\" type=\"text/css\" media=\"screen\" />\n",
      "\n",
      "<![endif]-->\n",
      "\n",
      "\n",
      "\n",
      "<!--[if IE 6]>\n",
      "\n",
      "<link href=\"https://www.victoria.ac.nz/__data/assets/file/0008/341/ie6.css\" rel=\"stylesheet\" type=\"text/css\" media=\"screen\" />\n",
      "\n",
      "<![endif]-->\n",
      "\n",
      "\n",
      "\n",
      "<!--[if IE 7]>\n",
      "\n",
      "<link href=\"https://www.victoria.ac.nz/__data/assets/file/0010/343/ie7.css\" rel=\"stylesheet\" type=\"text/css\" media=\"screen\" />\n",
      "\n",
      "<![endif]-->\n",
      "\n",
      "<style type=\"text/css\" media=\"all\">\n",
      "\n",
      "@import url('/foswiki/pub/System/SkinTemplates/base.css');\n",
      "\n",
      "</style>\n",
      "\n",
      "<meta name=\"foswiki.TWISTYANIMATIONSPEED\" content=\"fast\" /><!--TWISTYPLUGIN::META-->\n",
      "\n",
      "<link rel='stylesheet' href='/foswiki/pub/System/TwistyPlugin/twisty.css?version=1.6.0' type='text/css' media='all' /><!--JQUERYPLUGIN::TWISTY: requires= missing ids: JavascriptFiles/foswikiPref-->\n",
      "\n",
      "<script type='text/javascript' src='/foswiki/pub/System/JQueryPlugin/jquery-1.7.1.js'></script><!--JQUERYPLUGIN-->\n",
      "\n",
      "<script type='text/javascript' src='/foswiki/pub/System/JQueryPlugin/plugins/livequery/jquery.livequery.js?version=1.1.1'></script><!--JQUERYPLUGIN::LIVEQUERY-->\n",
      "\n",
      "<script type='text/javascript' src='/foswiki/pub/System/JQueryPlugin/plugins/foswiki/jquery.foswiki.js?version=2.01'></script><!--JQUERYPLUGIN::FOSWIKI-->\n",
      "\n",
      "<script type=\"text/javascript\" src=\"/foswiki/pub/System/JavascriptFiles/foswikiPref.js\"></script><!--JavascriptFiles/foswikiPref-->\n",
      "\n",
      "<script type='text/javascript' src='/foswiki/pub/System/TwistyPlugin/jquery.twisty.js?version=1.6.0'></script><!--JQUERYPLUGIN::TWISTY-->\n",
      "\n",
      "<meta name=\"ROBOTS\" content=\"NOINDEX, NOFOLLOW\" />\n",
      "\n",
      "<style type=\"text/css\">\n",
      "\n",
      "<!--/* <![CDATA[ */\n",
      "\n",
      "    table.logintable {\n",
      "\n",
      "      border: 1px solid black;\n",
      "\n",
      "      margin: 5px;\n",
      "\n",
      "      width: 200px;\n",
      "\n",
      "      float: right;\n",
      "\n",
      "      background: #FFFFFF;\n",
      "\n",
      "    }\n",
      "\n",
      "    table.logintable th, table.logintable td {\n",
      "\n",
      "      padding: 5px;\n",
      "\n",
      "      border: 0;\n",
      "\n",
      "      background: #FFFFFF;\n",
      "\n",
      "    }\n",
      "\n",
      "    td.loginmessage {\n",
      "\n",
      "      color: red;\n",
      "\n",
      "    }\n",
      "\n",
      "\n",
      "\n",
      "\n",
      "\n",
      "/* ]]> */-->\n",
      "\n",
      "</style>\n",
      "\n",
      "\n",
      "\n",
      "</head>\n",
      "\n",
      "<body class=\"patternViewPage\" onload=\"document.f.username.focus()\">\n",
      "\n",
      "<a name=\"PageTop\"></a>\n",
      "\n",
      "<!-- Top links -->\n",
      "\n",
      "<div id=\"skip-links\">\n",
      "\n",
      "<p><a href=\"#main-heading\" title=\"Skip to page heading and content. \" accesskey=\"[\" >Skip to page heading and content</a> | <a href=\"#section-links\"  title=\"Skip to section navigation. \" accesskey=\"N\" >Skip to contextual navigation</a></p>\n",
      "\n",
      "</div>\n",
      "\n",
      "<div id=\"top-links\">\n",
      "\n",
      "<div>\n",
      "\n",
      "\n",
      "\n",
      "\t\t  <p><a href=\"http://www.victoria.ac.nz\"><img src=\"https://www.victoria.ac.nz/__data/assets/image/0013/283/vic-logo_landscape_web-sr_rgb_v3.gif\" alt=\"Victoria University of Wellington logo\" width=\"220\" height=\"75\" border=\"0\" title=\"Victoria University of Wellington\" /></a></p>\n",
      "\n",
      "\t\t  <ul>\n",
      "\n",
      "\t\t\t\t<li><a href=\"https://ecs.victoria.ac.nz/login?ReturnUrl=https:%2f%2fecs.victoria.ac.nz%2flogin-ticket%3fReturnUrl%3dhttps%253A%252F%252Fecs.victoria.ac.nz%252Ffoswiki%252Fbin%252Fviewfileauth%252FCourses%252FNWEN241_2015T1%252FLectureSchedule%252Frfc2616.txt%3bmessage%3dlogin_required\" title=\"Log in\">Log In</a></li>\n",
      "\n",
      "\t\t\t\t<li><a href=\"http://www.victoria.ac.nz/ecs/about/staff\">School Staff</a></li>\n",
      "\n",
      "\t\t\t\t<li><a href=\"http://www.victoria.ac.nz/ecs/about/contact\">Contact Us</a></li>\n",
      "\n",
      "\t\t  </ul>\n",
      "\n",
      "\n",
      "\n",
      "</div>\n",
      "\n",
      "</div><!--end top-links/-->\n",
      "\n",
      "<div id=\"masthead\">\n",
      "\n",
      "<!--site-name-->\n",
      "\n",
      "        <div id=\"site-name\">\n",
      "\n",
      "                <h2>SCHOOL&nbsp;OF&nbsp;ENGINEERING&nbsp;AND&nbsp;COMPUTER&nbsp;SCIENCE</h2>\n",
      "\n",
      "                <ul>\n",
      "\n",
      "\n",
      "\n",
      "            <li><a href=\"http://www.victoria.ac.nz\"><img src=\"https://www.victoria.ac.nz/__data/assets/image/0016/83113/vic-home.jpg\" alt=\"Victoria University Homepage\" width=\"159\" height=\"15\" border=\"0\" /></a></li>\n",
      "\n",
      "\n",
      "\n",
      "                </ul>\n",
      "\n",
      "        </div>\n",
      "\n",
      "<div id=\"site-nav\">\n",
      "\n",
      "    <div><!--// Top Navigation //-->\n",
      "\n",
      "        <ul>\n",
      "\n",
      "\n",
      "\n",
      "            <li><a href=\"http://www.victoria.ac.nz/ecs/\" >Home</a></li>\n",
      "\n",
      "            <li><a href=\"http://www.victoria.ac.nz/ecs/about\" >About Us</a></li>\n",
      "\n",
      "            <li><a href=\"http://www.victoria.ac.nz/ecs/study\" >Study and Careers</a></li>\n",
      "\n",
      "            <li><a href=\"http://www.victoria.ac.nz/ecs/research\" >Research</a></li>\n",
      "\n",
      "            <li><a href=\"/Main/\" class=\"nav-on\">Wiki</a></li>\n",
      "\n",
      "\n",
      "\n",
      "       </ul>\n",
      "\n",
      "    </div> <!-- end of top navigation -->\n",
      "\n",
      "</div>\n",
      "\n",
      "  <!-- end site-nav --><div id=\"breadcrumb\"><p>You are here:</p> <ul><li><a href=\"/\">Home</a></li><li> &gt; </li></ul>\n",
      "\n",
      "\t\t  <a name=\"main-heading\" id=\"main-heading\"></a>\n",
      "\n",
      "<p /> <h1>Login</h1>\n",
      "\n",
      "</div><!-- end breadcrumb -->\n",
      "\n",
      "</div><!-- end masthead --><div id=\"patternScreen\">\n",
      "\n",
      "<div id=\"patternPage\"><div id=\"page\">\n",
      "\n",
      "<div id=\"section-content\">\n",
      "\n",
      "<div id=\"content-wrap\">\n",
      "\n",
      "<div id=\"content\">\n",
      "\n",
      "<div id=\"patternMainContents\"><div class=\"foswikiContentHeader\"></div><div class=\"patternContent\"><div class=\"foswikiTopic\">\n",
      "\n",
      "\n",
      "\n",
      "<h1>\n",
      "\n",
      "    Login\n",
      "\n",
      "</h1>\n",
      "\n",
      "\n",
      "\n",
      "\n",
      "\n",
      "<h2>Welcome to the ECS/SMS websites</h2>\n",
      "\n",
      "\n",
      "\n",
      "<form method=\"post\" action=\"/login-ticket\" enctype=\"multipart/form-data\" name=\"f\">\n",
      "\n",
      "\n",
      "\n",
      "<table class=\"logintable\">\n",
      "\n",
      "\n",
      "\n",
      "<tr>\n",
      "\n",
      "    <td colspan=\"2\" class=\"loginmessage\">Please enter your username and password to continue.</td>\n",
      "\n",
      "</td>\t\n",
      "\n",
      "\n",
      "\n",
      "<tr>\n",
      "\n",
      "<th>Username</th>\n",
      "\n",
      "<td>\n",
      "\n",
      "    <input type=\"text\" name=\"username\" tabindex=\"1\"  size=\"16\" />\n",
      "\n",
      "    <input type=\"hidden\" name=\"ReturnUrl\" value=\"https://ecs.victoria.ac.nz/foswiki/bin/viewfileauth/Courses/NWEN241_2015T1/LectureSchedule/rfc2616.txt\"  />\n",
      "\n",
      "    <input type=\"hidden\" name=\"ServerUrl\" value=\"\"  />\n",
      "\n",
      "</td>\n",
      "\n",
      "</tr>\n",
      "\n",
      "\n",
      "\n",
      "<tr>\n",
      "\n",
      "<th>Password</th>\n",
      "\n",
      "<td><input type=\"password\" name=\"password\" size=\"16\" tabindex=\"2\" /></td>\n",
      "\n",
      "</tr>\n",
      "\n",
      "\n",
      "\n",
      "<tr>\n",
      "\n",
      "<th>Realm</th>\n",
      "\n",
      "<td>\n",
      "\n",
      "    <select name=\"realm\" tabindex=\"3\" >\n",
      "\n",
      "<option selected=\"selected\" value=\"ECS.VUW.AC.NZ\">ecs.vuw.ac.nz</option>\n",
      "\n",
      "<option value=\"STAFF.VUW.AC.NZ\">staff.vuw.ac.nz</option>\n",
      "\n",
      "<option value=\"STUDENT.VUW.AC.NZ\">student.vuw.ac.nz</option>\n",
      "\n",
      "</select>\n",
      "\n",
      "</td>\n",
      "\n",
      "</tr>\n",
      "\n",
      "\n",
      "\n",
      "<tr>\n",
      "\n",
      "<th>HTTPS only</th>\n",
      "\n",
      "<td>\n",
      "\n",
      "    <label><input type=\"checkbox\" name=\"ssl_only\" value=\"on\" tabindex=\"4\" /></label>*\n",
      "\n",
      "</td>\n",
      "\n",
      "</tr>\n",
      "\n",
      "<tr>\n",
      "\n",
      "<td style=\"text-align: center\" colspan=\"2\">\n",
      "\n",
      "    <input type=\"submit\" name=\"login\" value=\"Log in\" tabindex='5' />\n",
      "\n",
      "    <br />\n",
      "\n",
      "    <a href=\"/Support/TechNoteForgottenPassword\">Forgot your password?</a>\n",
      "\n",
      "    <br />\n",
      "\n",
      "    <img src=\"/images/openid-16x16.gif\" alt=\"OpenID logo\" /><a href=\"/cgi-bin/openid_connect?ReturnUrl=https%3A%2F%2Fecs.victoria.ac.nz%2Ffoswiki%2Fbin%2Fviewfileauth%2FCourses%2FNWEN241_2015T1%2FLectureSchedule%2Frfc2616.txt;message=login_required\">Log in using OpenID</a>\n",
      "\n",
      "</td>\n",
      "\n",
      "</tr>\n",
      "\n",
      "</table>\n",
      "\n",
      "<div> <input type=\"hidden\" name=\".cgifields\" value=\"ssl_only\"  /> </div> </form>\n",
      "\n",
      "\n",
      "\n",
      "<p>\n",
      "\n",
      "  By logging in to our website you will be able to access protected resources\n",
      "\n",
      "  and some areas of the website will be personalised.\n",
      "\n",
      "</p>\n",
      "\n",
      "\n",
      "\n",
      "<p>\n",
      "\n",
      "  The webserver requires you to authenticate because:\n",
      "\n",
      "  <blockquote>\n",
      "\n",
      "    <i>This page requires authentication</i>\n",
      "\n",
      "  </blockquote>\n",
      "\n",
      "</p>\n",
      "\n",
      "\n",
      "\n",
      "<h3>Help</h3>\n",
      "\n",
      "\n",
      "\n",
      "<p>\n",
      "\n",
      "  There are several reasons that you may be unable to log in:\n",
      "\n",
      "</p>\n",
      "\n",
      "\n",
      "\n",
      "<h4>You haven't performed \"Account Registration\"</h4>\n",
      "\n",
      "<p>\n",
      "\n",
      "  Each year, students in the School need to follow our registration process\n",
      "\n",
      "  so that they can use an ECS account. This is different from the SCS account\n",
      "\n",
      "  that you may use elsewhere in the University.\n",
      "\n",
      "</p>\n",
      "\n",
      "<p>\n",
      "\n",
      "  To register, please go to one of the computer labs in the School, or you can\n",
      "\n",
      "  <a href=\"/register\">register online</a>.\n",
      "\n",
      "</p>\n",
      "\n",
      "\n",
      "\n",
      "<h4>Selecting the wrong Realm</h4>\n",
      "\n",
      "<p>\n",
      "\n",
      "  If you are using an ECS account to log in then the \"Realm\" should be set to \n",
      "\n",
      "  <code>ecs.vuw.ac.nz</code>.\n",
      "\n",
      "</p>\n",
      "\n",
      "<p>\n",
      "\n",
      "  If however you are using a VUW STAFF or STUDENT\n",
      "\n",
      "  account (as used elsewhere in the University) \"Realm\" should be set to\n",
      "\n",
      "  <code>staff.vuw.ac.nz</code> or <code>student.vuw.ac.nz</code> as appropriate.\n",
      "\n",
      "</p>\n",
      "\n",
      "\n",
      "\n",
      "<h4>Forgotten password</h4>\n",
      "\n",
      "<p>\n",
      "\n",
      "  If you have forgotten your password, please visit the \n",
      "\n",
      "  <a href=\"/Support/TechNoteForgottenPassword\">\"Forgot your password\"</a> page\n",
      "\n",
      "  to find out how to have it reset.\n",
      "\n",
      "</p>\n",
      "\n",
      "  \n",
      "\n",
      "<h4>Cookie problems</h4>\n",
      "\n",
      "<p>\n",
      "\n",
      "  Our website follows industry best-practice and uses an encrypted session\n",
      "\n",
      "  cookie to authenticate your requests to our server. This cookie is not \n",
      "\n",
      "  written to your hard disk. \n",
      "\n",
      "</p>\n",
      "\n",
      "<p>\n",
      "\n",
      "  If your browser blocks cookies, then your login may succeed but subsequent\n",
      "\n",
      "  requests to our webserver may be denied. Please allow your browser to accept\n",
      "\n",
      "  session cookies. If necessary you can add ecs.victoria.ac.nz to the list of\n",
      "\n",
      "  trusted sites in your browser options.\n",
      "\n",
      "</p>\n",
      "\n",
      "\n",
      "\n",
      "<h4>IP Address mismatch</h4>\n",
      "\n",
      "<p>\n",
      "\n",
      "  Our webserver checks your IP address when validating your login and \n",
      "\n",
      "  subsequent accesses. If your ISP or business runs a proxy server, you could\n",
      "\n",
      "  potentially connect from two or more IP addresses in a given session. \n",
      "\n",
      "</p>\n",
      "\n",
      "<p>\n",
      "\n",
      "  To find out your connecting IP address, you can compare the address you\n",
      "\n",
      "  connect via <a href=\"/cgi-bin/login/ip\">HTTPS</a> to the address you connect\n",
      "\n",
      "  via <a href=\"http://ecs.victoria.ac.nz/cgi-bin/login/ip\">HTTP</a>. If the\n",
      "\n",
      "  addresses differ, selecting the \"HTTPS only\" option may help you log in and\n",
      "\n",
      "  access the site, as you will always be connecting to the HTTPS version of\n",
      "\n",
      "  the website.\n",
      "\n",
      "</p>\n",
      "\n",
      "\n",
      "\n",
      "<h4>Kerberos authentication</h4>\n",
      "\n",
      "<p>\n",
      "\n",
      "  A supporting web browser can log you in automatically using Kerberos if you\n",
      "\n",
      "  are within the ECS environment. Currently common browsers such as Konqueror,\n",
      "\n",
      "  Firefox, Safari and Internet Explorer have support for Kerberos.\n",
      "\n",
      "</p>\n",
      "\n",
      "<p>\n",
      "\n",
      "  To tell your browser to prefer Kerberos over password authentication, you can\n",
      "\n",
      "  set a cookie: <a href=\"/login?kerberos=1\">Prefer Kerberos authentication</a>;\n",
      "\n",
      "  <a href=\"/login?kerberos=0\">Prefer password authentication</a>.\n",
      "\n",
      "</p>\n",
      "\n",
      "<p>\n",
      "\n",
      "  Even if your browser has Kerberos support, it may fail to log you in \n",
      "\n",
      "  automatically. This may be because you have not logged in within the last \n",
      "\n",
      "  10 hours, and your Kerberos ticket has expired. Typing \"kinit\" at your shell\n",
      "\n",
      "  prompt every morning will give you a fresh ticket.\n",
      "\n",
      "</p>\n",
      "\n",
      "\n",
      "\n",
      "<h4>Popup authentication boxes</h4>\n",
      "\n",
      "<p>\n",
      "\n",
      "  If you are using Internet Explorer, you may be hitting an IE bug that pops\n",
      "\n",
      "  up an <a href=\"/technical/TechNotes/msie-popup.jpg\">authentication dialog</a>\n",
      "\n",
      "  if Kerberos authentication fails. To avoid this\n",
      "\n",
      "  happening again, you can <a href=\"/login?kerberos=0\">set a cookie</a> to use\n",
      "\n",
      "  password authentication in preference to Kerberos.\n",
      "\n",
      "</p>\n",
      "\n",
      "\n",
      "\n",
      "<h4>Requesting help</h4>\n",
      "\n",
      "<p>\n",
      "\n",
      "  As usual, if you have trouble logging in you can contact the ECS Tech Staff\n",
      "\n",
      "  by email, giving as much information as possible:\n",
      "\n",
      "  <a href=\"mailto:bugs@ecs.vuw.ac.nz\">bugs@ecs.vuw.ac.nz</a>.\n",
      "\n",
      "</p>\n",
      "\n",
      "\n",
      "\n",
      "</div><!-- /foswikiTopic-->\n",
      "\n",
      "<div class=\"foswikiContentFooter\"></div></div><!-- /patternContent-->\n",
      "\n",
      "</div><!-- /patternMainContents-->\n",
      "\n",
      "</div><!-- /content-->\n",
      "\n",
      "</div><!-- /content-wrap-->\n",
      "\n",
      "<div id=\"section-nav\">\n",
      "\n",
      "<a name=\"section-links\" id=\"section-links\"></a>\n",
      "\n",
      "<h3 class=\"hidden\">Section navigation</h3>\n",
      "\n",
      "<!--// Left navigation //-->\n",
      "\n",
      "\n",
      "\n",
      "</div> <!-- end section-nav -->\n",
      "\n",
      "<p />\n",
      "\n",
      "</div><!-- /section-content-->\n",
      "\n",
      "<div id=\"related-outer\">\n",
      "\n",
      "<div id=\"related\">\n",
      "\n",
      "<h3 class=\"hidden\">Related Information</h3>\n",
      "\n",
      "\t\t  <!-- sct_document -->\n",
      "\n",
      "<div class=\"lift context-home\">\n",
      "\n",
      "\t <div id=\"context-nav\">\n",
      "\n",
      "\t\t  <div class=\"bottom-corner\">\n",
      "\n",
      "\t\t\t\t<div class=\"context-body\">\n",
      "\n",
      "<h3><a name=\"Information_About\"></a> Information About </h3> <ul>\n",
      "\n",
      "   <li><a href=\"http://www.victoria.ac.nz/ecs/study/undergraduate-study\">Undergraduate Study</a></li>\n",
      "\n",
      "   <li><a href=\"http://www.victoria.ac.nz/ecs/study/postgraduate-study\">Postgraduate Study</a></li>\n",
      "\n",
      "   <li><a href=\"http://www.victoria.ac.nz/ecs/study/work-experience\">Work Experience</a></li>\n",
      "\n",
      "   <li><a href=\"http://www.victoria.ac.nz/ecs/research/industry-collaboration\">Industry Collaboration</a></li>\n",
      "\n",
      "   <li><a href=\"http://www.victoria.ac.nz/ecs/research/groups\">Research Groups</a></li>\n",
      "\n",
      "   <li><a href=\"http://www.victoria.ac.nz/engineering\">Faculty of Engineering</a></li>\n",
      "\n",
      "   <li><a href=\"http://www.victoria.ac.nz/science\">Faculty of Science</a></li>\n",
      "\n",
      "   <li><a href=\"http://www.victoria.ac.nz/study/apply-enrol\">2016 Enrolment</a></li>\n",
      "\n",
      "   \n",
      "\n",
      "\n",
      "\n",
      "</ul> \n",
      "\n",
      "<p />\n",
      "\n",
      "\n",
      "\n",
      "\t\t\t\t</div>\n",
      "\n",
      "\t\t  </div>\n",
      "\n",
      "\t </div>\n",
      "\n",
      "</div>\n",
      "\n",
      "<div class=\"lift\">\n",
      "\n",
      "\t <div class=\"page-tools\"><div class=\"twistyPlugin foswikiMakeVisible\"><span class=\"patternLeftBarTwistyWebs\"><span id=\"twistyIdMainWebLeftBarWebsList2show\" style=\"\" class=\"twistyRememberSetting twistyTrigger foswikiUnvisited twistyInited0\"><a href=\"#\" class=\"\"><span class=\"foswikiLinkLabel foswikiUnvisited\">Sections&nbsp;</span><img src=\"/foswiki/pub/System/DocumentGraphics/toggleopen-mini.png\" border=\"0\" alt=\"\" /></a></span><span id=\"twistyIdMainWebLeftBarWebsList2hide\" style=\"display:none\" class=\"twistyRememberSetting twistyTrigger foswikiUnvisited twistyInited0\"><a href=\"#\" class=\"\"><span class=\"foswikiLinkLabel foswikiUnvisited\">Sections&nbsp;</span><img src=\"/foswiki/pub/System/DocumentGraphics/toggleclose-mini.png\" border=\"0\" alt=\"\" /></a></span></span></div><div class=\"twistyPlugin\"><div id=\"twistyIdMainWebLeftBarWebsList2toggle\" style=\"\" class=\"twistyRememberSetting twistyContent twistyInited0\"> <ul>\n",
      "\n",
      "<li> <span style=\"white-space:nowrap\"><a href=\"/EResearch/WebHome\"><img src=\"/foswiki/pub/System/DocumentGraphics/web-bg.png\" border=\"0\" alt=\"\" width=\"16\" height=\"16\" style=\"background-color:#FF99FF\" />&nbsp;EResearch</a></span>\n",
      "\n",
      "</li> <li> <span style=\"white-space:nowrap\"><a href=\"/Events/WebHome\"><img src=\"/foswiki/pub/System/DocumentGraphics/web-bg.png\" border=\"0\" alt=\"\" width=\"16\" height=\"16\" style=\"background-color:#CC0099\" />&nbsp;Events</a></span>\n",
      "\n",
      "</li> <li> <span style=\"white-space:nowrap\"><a href=\"/Events/ACRA2012/WebHome\"><img src=\"/foswiki/pub/System/DocumentGraphics/web-bg.png\" border=\"0\" alt=\"\" width=\"16\" height=\"16\" style=\"background-color:#D0D0D0\" />&nbsp;&nbsp; ACRA2012</a></span>\n",
      "\n",
      "</li> <li> <span style=\"white-space:nowrap\"><a href=\"/Events/CMS2011/WebHome\"><img src=\"/foswiki/pub/System/DocumentGraphics/web-bg.png\" border=\"0\" alt=\"\" width=\"16\" height=\"16\" style=\"background-color:#D0D0D0\" />&nbsp;&nbsp; CMS2011</a></span>\n",
      "\n",
      "</li> <li> <span style=\"white-space:nowrap\"><a href=\"/Events/CMS2013/WebHome\"><img src=\"/foswiki/pub/System/DocumentGraphics/web-bg.png\" border=\"0\" alt=\"\" width=\"16\" height=\"16\" style=\"background-color:#D0D0D0\" />&nbsp;&nbsp; CMS2013</a></span>\n",
      "\n",
      "</li> <li> <span style=\"white-space:nowrap\"><a href=\"/Events/IWACO2011/WebHome\"><img src=\"/foswiki/pub/System/DocumentGraphics/web-bg.png\" border=\"0\" alt=\"\" width=\"16\" height=\"16\" style=\"background-color:#D0D0D0\" />&nbsp;&nbsp; IWACO2011</a></span>\n",
      "\n",
      "</li> <li> <span style=\"white-space:nowrap\"><a href=\"/Events/MODELS2011/WebHome\"><img src=\"/foswiki/pub/System/DocumentGraphics/web-bg.png\" border=\"0\" alt=\"\" width=\"16\" height=\"16\" style=\"background-color:#56ca9e\" />&nbsp;&nbsp; MODELS2011</a></span>\n",
      "\n",
      "</li> <li> <span style=\"white-space:nowrap\"><a href=\"/Events/NZCSRSC2010/WebHome\"><img src=\"/foswiki/pub/System/DocumentGraphics/web-bg.png\" border=\"0\" alt=\"\" width=\"16\" height=\"16\" style=\"background-color:#D0D0D0\" />&nbsp;&nbsp; NZCSRSC2010</a></span>\n",
      "\n",
      "</li> <li> <span style=\"white-space:nowrap\"><a href=\"/Events/PLATEAU/WebHome\"><img src=\"/foswiki/pub/System/DocumentGraphics/web-bg.png\" border=\"0\" alt=\"\" width=\"16\" height=\"16\" style=\"background-color:#D0D0D0\" />&nbsp;&nbsp; PLATEAU</a></span>\n",
      "\n",
      "</li> <li> <span style=\"white-space:nowrap\"><a href=\"/Events/VASE/WebHome\"><img src=\"/foswiki/pub/System/DocumentGraphics/web-bg.png\" border=\"0\" alt=\"\" width=\"16\" height=\"16\" style=\"background-color:#D0D0D0\" />&nbsp;&nbsp; VASE</a></span>\n",
      "\n",
      "</li> <li> <span style=\"white-space:nowrap\"><a href=\"/Groups/WebHome\"><img src=\"/foswiki/pub/System/DocumentGraphics/web-bg.png\" border=\"0\" alt=\"\" width=\"16\" height=\"16\" style=\"background-color:#99CCFF\" />&nbsp;Groups</a></span>\n",
      "\n",
      "</li> <li> <span style=\"white-space:nowrap\"><a href=\"/Groups/AI/WebHome\"><img src=\"/foswiki/pub/System/DocumentGraphics/web-bg.png\" border=\"0\" alt=\"\" width=\"16\" height=\"16\" style=\"background-color:#99CCFF\" />&nbsp;&nbsp; AI</a></span>\n",
      "\n",
      "</li> <li> <span style=\"white-space:nowrap\"><a href=\"/Groups/Alumni/WebHome\"><img src=\"/foswiki/pub/System/DocumentGraphics/web-bg.png\" border=\"0\" alt=\"\" width=\"16\" height=\"16\" style=\"background-color:#99CCFF\" />&nbsp;&nbsp; Alumni</a></span>\n",
      "\n",
      "</li> <li> <span style=\"white-space:nowrap\"><a href=\"/Groups/CGCVIP/WebHome\"><img src=\"/foswiki/pub/System/DocumentGraphics/web-bg.png\" border=\"0\" alt=\"\" width=\"16\" height=\"16\" style=\"background-color:#99CCFF\" />&nbsp;&nbsp; CGCVIP</a></span>\n",
      "\n",
      "</li> <li> <span style=\"white-space:nowrap\"><a href=\"/Groups/CSP/WebHome\"><img src=\"/foswiki/pub/System/DocumentGraphics/web-bg.png\" border=\"0\" alt=\"\" width=\"16\" height=\"16\" style=\"background-color:#99CCFF\" />&nbsp;&nbsp; CSP</a></span>\n",
      "\n",
      "</li> <li> <span style=\"white-space:nowrap\"><a href=\"/Groups/Elvis/WebHome\"><img src=\"/foswiki/pub/System/DocumentGraphics/web-bg.png\" border=\"0\" alt=\"\" width=\"16\" height=\"16\" style=\"background-color:#99CCFF\" />&nbsp;&nbsp; Elvis</a></span>\n",
      "\n",
      "</li> <li> <span style=\"white-space:nowrap\"><a href=\"/Groups/ECRG/WebHome\"><img src=\"/foswiki/pub/System/DocumentGraphics/web-bg.png\" border=\"0\" alt=\"\" width=\"16\" height=\"16\" style=\"background-color:#99CCFF\" />&nbsp;&nbsp; ECRG</a></span>\n",
      "\n",
      "</li> <li> <span style=\"white-space:nowrap\"><a href=\"/Groups/Mechatronics/WebHome\"><img src=\"/foswiki/pub/System/DocumentGraphics/web-bg.png\" border=\"0\" alt=\"\" width=\"16\" height=\"16\" style=\"background-color:#99CCFF\" />&nbsp;&nbsp; Mechatronics</a></span>\n",
      "\n",
      "</li> <li> <span style=\"white-space:nowrap\"><a href=\"/Main/WebHome\"><img src=\"/foswiki/pub/System/DocumentGraphics/web-bg.png\" border=\"0\" alt=\"\" width=\"16\" height=\"16\" style=\"background-color:#00416D\" />&nbsp;Main</a></span>\n",
      "\n",
      "</li> <li> <span style=\"white-space:nowrap\"><a href=\"/Support/WebHome\"><img src=\"/foswiki/pub/System/DocumentGraphics/web-bg.png\" border=\"0\" alt=\"\" width=\"16\" height=\"16\" style=\"background-color:#336666\" />&nbsp;Support</a></span>\n",
      "\n",
      "</li> <li> <span style=\"white-space:nowrap\"><a href=\"/Year2009/WebHome\"><img src=\"/foswiki/pub/System/DocumentGraphics/web-bg.png\" border=\"0\" alt=\"\" width=\"16\" height=\"16\" style=\"background-color:#CC0000\" />&nbsp;Year2009</a></span>\n",
      "\n",
      "</li> <li> <span style=\"white-space:nowrap\"><a href=\"/Year2010/WebHome\"><img src=\"/foswiki/pub/System/DocumentGraphics/web-bg.png\" border=\"0\" alt=\"\" width=\"16\" height=\"16\" style=\"background-color:#CC0000\" />&nbsp;Year2010</a></span>\n",
      "\n",
      "</li> <li> <span style=\"white-space:nowrap\"><a href=\"/Year2011/WebHome\"><img src=\"/foswiki/pub/System/DocumentGraphics/web-bg.png\" border=\"0\" alt=\"\" width=\"16\" height=\"16\" style=\"background-color:#CC0000\" />&nbsp;Year2011</a></span>\n",
      "\n",
      "</li> <li> <span style=\"white-space:nowrap\"><a href=\"/Year2012/WebHome\"><img src=\"/foswiki/pub/System/DocumentGraphics/web-bg.png\" border=\"0\" alt=\"\" width=\"16\" height=\"16\" style=\"background-color:#CC0000 \" />&nbsp;Year2012</a></span>\n",
      "\n",
      "</li> <li> <span style=\"white-space:nowrap\"><a href=\"/Year2013/WebHome\"><img src=\"/foswiki/pub/System/DocumentGraphics/web-bg.png\" border=\"0\" alt=\"\" width=\"16\" height=\"16\" style=\"background-color:#CC0000 \" />&nbsp;Year2013</a></span>\n",
      "\n",
      "</li></ul> \n",
      "\n",
      "</div></div>\n",
      "\n",
      "\t </div>\n",
      "\n",
      "</div>\n",
      "\n",
      "</div> <!-- end of related -->\n",
      "\n",
      "</div> <!-- end of related-outer -->\n",
      "\n",
      "</div></div><!-- /patternPage--><div id=\"footer-outer\"><div id=\"footer\"><div class=\"noprint\">\n",
      "\n",
      "<a href=\"/Main/ContactUs\">Contact Us</a> | <a href=\"/Main/WebTopicList\">Section Map</a> | <a href=\"http://www.victoria.ac.nz/ecs/disclaimer\" target=\"_top\">Disclaimer</a> | <a href=\"/Main/WebRss\" id=\"BottomBarRssLink\" class=\"imageHref imageSimple imageSimple_none \" title=\"feed-icon-14x14-desaturated.png\" style=\"background-color:white\"><img border=\"0\" src=\"/foswiki/pub/Main/WebBottomBar/feed-icon-14x14-desaturated.png\" alt=\"RSS feed\" width=\"14\" height=\"14\" longdesc=\"feed-icon-14x14-desaturated.png\" onmouseover=\"this.src='/foswiki/pub/Main/WebBottomBar/feed-icon-14x14.png';\" onmouseout=\"this.src='/foswiki/pub/Main/WebBottomBar/feed-icon-14x14-desaturated.png';\"/></a> <a href=\"/Main/WebRss\">RSS Feed</a><span style=\"float:right\"><a href=\"#PageTop\" class=\"page-top\">Back to top ^</a></span>\n",
      "\n",
      "<p />\n",
      "\n",
      "<!-- CFLEWIS | 2008-03-03 | Can't use TOPICURL as it doesn't work with URL munging, as we use for minisites. The other comments are used by the template downloader, don't change the line breaks! -->\n",
      "\n",
      "<p />\n",
      "\n",
      "Page Updated:\n",
      "\n",
      "                    Fri Aug 21 17:10:55 2015.\n",
      "\n",
      "\n",
      "\n",
      "&copy; Victoria University of Wellington, New Zealand, unless otherwise stated\n",
      "\n",
      "</div></div><!-- /footer--></div><!-- /footer-outer-->\n",
      "\n",
      "</div><!-- /patternScreen-->\n",
      "\n",
      "</body></html>\n",
      "\n"
     ]
    }
   ],
   "source": [
    "import urllib.request\n",
    "\n",
    "URL = \"https://ecs.victoria.ac.nz/foswiki/pub/Courses/NWEN241_2015T1/LectureSchedule/rfc2616.txt\"\n",
    "\n",
    "# get a socket handle\n",
    "response = urllib.request.urlopen(URL)\n",
    "\n",
    "# print out line by line\n",
    "for line in response:\n",
    "    print(line.decode('UTF-8'))"
   ]
  },
  {
   "cell_type": "markdown",
   "metadata": {},
   "source": [
    "Opening the remote url returns what we call a socket. This is a handle to our end of the connection between our program and the remote web server. We can call read, write, and close methods on the socket object in much the same way as we can work with a file handle.\n",
    "\n",
    "Note the use if the ```decode``` function. This is required because when we iterate over the socket object we are returned byte strings. We have to convert this into a human readable string and this is done using the decode function. This function takes an \"encoding\", basically the mapping between the bytes and the character set. In *many* cases the standard is UTF-8, which has been used here.\n",
    "\n",
    "More info about byte strings versus strings is here (optional -- from https://docs.python.org/3.1/library/stdtypes.html):\n",
    "\n",
    ">>> While string objects are sequences of characters (represented by strings of length 1), bytes and bytearray objects are sequences of integers (between 0 and 255), representing the ASCII value of single bytes. That means that for a bytes or bytearray object b, b[0] will be an integer, while b[0:1] will be a bytes or bytearray object of length 1. The representation of bytes objects uses the literal format (b'...') since it is generally more useful than e.g. bytes([50, 19, 100]). You can always convert a bytes object into a list of integers using list(b).\n",
    "\n",
    ">>> Also, while in previous Python versions, byte strings and Unicode strings could be exchanged for each other rather freely (barring encoding issues), strings and bytes are now completely separate concepts. There’s no implicit en-/decoding if you pass an object of the wrong type. A string always compares unequal to a bytes or bytearray object."
   ]
  },
  {
   "cell_type": "markdown",
   "metadata": {},
   "source": [
    "### Headers and Body \n",
    "\n",
    "Web pages are made up of two parts, the headers and the body. The headers tell the client useful information such as the language used in the body, while the body is the content of the web page.\n",
    "\n",
    "You can access the headers using the ```.info()``` keyword. In the example below we see the encoding used for the webpage."
   ]
  },
  {
   "cell_type": "code",
   "execution_count": 29,
   "metadata": {
    "collapsed": false
   },
   "outputs": [
    {
     "name": "stdout",
     "output_type": "stream",
     "text": [
      "Server: NZCMS\n",
      "Content-Length: 212354\n",
      "Content-Type: text/html;charset=utf-8\n",
      "X-Come-Hack-With-Us: https://technology.fairfaxmedia.co.nz/work-here/\n",
      "Vary: Accept-Encoding\n",
      "X-Varnish: 423740787 429588772\n",
      "x-url: /content/desktop/stuff.html\n",
      "x-host: www.stuff.co.nz\n",
      "X-FFX-B: azcmsppu189a\n",
      "X-ESI-Enable: 1\n",
      "Cache-Control: max-age=30\n",
      "Expires: Mon, 30 May 2016 07:56:56 GMT\n",
      "Date: Mon, 30 May 2016 07:56:26 GMT\n",
      "Connection: close\n",
      "\n",
      "\n"
     ]
    }
   ],
   "source": [
    "import urllib.request\n",
    "\n",
    "#URL = \"https://ecs.victoria.ac.nz/foswiki/pub/Courses/NWEN241_2015T1/LectureSchedule/rfc2616.txt\"\n",
    "URL=\"http://www.stuff.co.nz\"\n",
    "\n",
    "# display the headers\n",
    "response = urllib.request.urlopen(URL)\n",
    "print(response.info())\n"
   ]
  },
  {
   "cell_type": "code",
   "execution_count": null,
   "metadata": {
    "collapsed": true
   },
   "outputs": [],
   "source": []
  },
  {
   "cell_type": "code",
   "execution_count": null,
   "metadata": {
    "collapsed": true
   },
   "outputs": [],
   "source": []
  }
 ],
 "metadata": {
  "kernelspec": {
   "display_name": "Python 3",
   "language": "python",
   "name": "python3"
  },
  "language_info": {
   "codemirror_mode": {
    "name": "ipython",
    "version": 3
   },
   "file_extension": ".py",
   "mimetype": "text/x-python",
   "name": "python",
   "nbconvert_exporter": "python",
   "pygments_lexer": "ipython3",
   "version": "3.4.3"
  }
 },
 "nbformat": 4,
 "nbformat_minor": 0
}
