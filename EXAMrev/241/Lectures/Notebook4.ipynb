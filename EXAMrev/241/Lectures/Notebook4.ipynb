{
 "cells": [
  {
   "cell_type": "markdown",
   "metadata": {},
   "source": [
    "# Today: Sets and Functions"
   ]
  },
  {
   "cell_type": "markdown",
   "metadata": {},
   "source": [
    "# Sets\n",
    "\n",
    "Denoted with curly braces and use commas like lists\n",
    "\n",
    "Entries must be unique"
   ]
  },
  {
   "cell_type": "code",
   "execution_count": null,
   "metadata": {
    "collapsed": false
   },
   "outputs": [],
   "source": [
    "myset = {1,2,3,\"bingo\"}\n",
    "print (myset)\n",
    "print (type(myset))"
   ]
  },
  {
   "cell_type": "code",
   "execution_count": null,
   "metadata": {
    "collapsed": false
   },
   "outputs": [],
   "source": [
    "# this is not a set\n",
    "type({}) "
   ]
  },
  {
   "cell_type": "code",
   "execution_count": null,
   "metadata": {
    "collapsed": false
   },
   "outputs": [],
   "source": [
    "print (type(set())) \n",
    "print (type({1,}))"
   ]
  },
  {
   "cell_type": "code",
   "execution_count": null,
   "metadata": {
    "collapsed": false
   },
   "outputs": [],
   "source": [
    "# creating a set from a string\n",
    "set(\"spamaaaaaaaaIam\") "
   ]
  },
  {
   "cell_type": "markdown",
   "metadata": {},
   "source": [
    "Sets have unique elements. \n",
    "\n",
    "### Set Math \n",
    "\n",
    "They can be compared, differenced, unionized, etc."
   ]
  },
  {
   "cell_type": "code",
   "execution_count": null,
   "metadata": {
    "collapsed": false
   },
   "outputs": [],
   "source": [
    "# note that ordering is unimportant\n",
    "a = set(\"spm\")\n",
    "b = set(\"am\")\n",
    "print(a)\n",
    "print(b) "
   ]
  },
  {
   "cell_type": "code",
   "execution_count": null,
   "metadata": {
    "collapsed": false
   },
   "outputs": [],
   "source": [
    "c = set([\"m\",\"a\"]) # see ordering doesn't matter\n",
    "print (c)\n",
    "print (b)\n",
    "c == b"
   ]
  },
  {
   "cell_type": "code",
   "execution_count": null,
   "metadata": {
    "collapsed": false
   },
   "outputs": [],
   "source": [
    "print (a)\n",
    "print (\"p\" in a)"
   ]
  },
  {
   "cell_type": "code",
   "execution_count": null,
   "metadata": {
    "collapsed": false
   },
   "outputs": [],
   "source": [
    "print (\"sp\" in a)"
   ]
  },
  {
   "cell_type": "code",
   "execution_count": null,
   "metadata": {
    "collapsed": false
   },
   "outputs": [],
   "source": [
    "# issubset() checks if all of a's values are in q\n",
    "print (a)\n",
    "q = set(\"spamIam\")\n",
    "print (q)\n",
    "print (a.issubset(q))"
   ]
  },
  {
   "cell_type": "code",
   "execution_count": null,
   "metadata": {
    "collapsed": false
   },
   "outputs": [],
   "source": [
    "print (a)\n",
    "print (b)\n",
    "# union (what is in a or in b)\n",
    "print (a | b)"
   ]
  },
  {
   "cell_type": "code",
   "execution_count": null,
   "metadata": {
    "collapsed": false
   },
   "outputs": [],
   "source": [
    "print (a)\n",
    "print (b)\n",
    "# difference (what is in a, but not in b)\n",
    "print (a - b) "
   ]
  },
  {
   "cell_type": "code",
   "execution_count": null,
   "metadata": {
    "collapsed": false
   },
   "outputs": [],
   "source": [
    "print (a)\n",
    "print (b)\n",
    "# intersection (what is in both a and b)\n",
    "print (a & b) "
   ]
  },
  {
   "cell_type": "markdown",
   "metadata": {},
   "source": [
    "Sets are mutable"
   ]
  },
  {
   "cell_type": "code",
   "execution_count": null,
   "metadata": {
    "collapsed": false
   },
   "outputs": [],
   "source": [
    "q = set(\"spamIam\")\n",
    "q.update(\"hello\") # add elements from a sequence object\n",
    "print(q)"
   ]
  },
  {
   "cell_type": "code",
   "execution_count": null,
   "metadata": {
    "collapsed": false
   },
   "outputs": [],
   "source": [
    "q.add(\"an element\")\n",
    "print(q)"
   ]
  },
  {
   "cell_type": "code",
   "execution_count": null,
   "metadata": {
    "collapsed": false
   },
   "outputs": [],
   "source": [
    "# remove element (error if doesn't exist)\n",
    "q.remove(\"an element\")\n",
    "print(q) "
   ]
  },
  {
   "cell_type": "code",
   "execution_count": null,
   "metadata": {
    "collapsed": false
   },
   "outputs": [],
   "source": [
    "# remove element (error if doesn't exist)\n",
    "q.remove(\"an element\")\n",
    "print(q) "
   ]
  },
  {
   "cell_type": "code",
   "execution_count": null,
   "metadata": {
    "collapsed": false
   },
   "outputs": [],
   "source": [
    "# remove element (no error if doesn't exist)\n",
    "q.discard(\"an elfdfdsfsement\")\n",
    "print(q) "
   ]
  },
  {
   "cell_type": "markdown",
   "metadata": {},
   "source": [
    "Like lists, we can use as (unordered) buckets .pop() gives us a random element"
   ]
  },
  {
   "cell_type": "code",
   "execution_count": null,
   "metadata": {
    "collapsed": false
   },
   "outputs": [],
   "source": [
    "print (q)\n",
    "print (q.pop())\n",
    "print (q.pop())\n",
    "print (q.pop())"
   ]
  },
  {
   "cell_type": "markdown",
   "metadata": {
    "collapsed": true
   },
   "source": [
    "# Functions \n",
    "\n",
    "Python can be both **procedural (using functions)** and **object oriented (using classes)**.\n",
    "\n",
    "[We do objects on Wednesday, but much of the function stuff now will also be applicable.]\n",
    "\n",
    "Functions looks like:\n",
    "\n",
    "```python\n",
    "def function_name(arg1,arg2, ... argX)\n",
    "    <statement-1>\n",
    "    ...\n",
    "    <statement-N>\n",
    "```\n",
    "\n",
    "argX are *required arguments* (and sequence is important)."
   ]
  },
  {
   "cell_type": "markdown",
   "metadata": {},
   "source": [
    "*You can name a function anything you want as long as it:*\n",
    "\n",
    "* contains only numbers, letters, underscore\n",
    "* does not start with a number\n",
    "* is not the same name as a built-in function (like print)\n",
    "\n",
    "Unlike Java methods, functions always return something even it's ```None```.\n"
   ]
  },
  {
   "cell_type": "markdown",
   "metadata": {},
   "source": [
    "## The Basic Idea\n",
    "\n",
    "Let's define a function to add two variables together. \n",
    "\n",
    "Note the lack of type in the declaration of the function.\n",
    "\n",
    "Java is *statically typed*, the compiler checks for attempts to use the wrong type of parameter at compile time.\n",
    "\n",
    "Python is *dynamically typed* where the type of the varible is not checked until runtime, defers error detection until the variable is used."
   ]
  },
  {
   "cell_type": "code",
   "execution_count": null,
   "metadata": {
    "collapsed": false
   },
   "outputs": [],
   "source": [
    "def addnums(x,y):\n",
    "    return x + y"
   ]
  },
  {
   "cell_type": "code",
   "execution_count": null,
   "metadata": {
    "collapsed": false
   },
   "outputs": [],
   "source": [
    "addnums(2,3) # easy"
   ]
  },
  {
   "cell_type": "code",
   "execution_count": null,
   "metadata": {
    "collapsed": false
   },
   "outputs": [],
   "source": [
    "print(addnums(0x1f,1.0)) # what's the output this time?\n",
    "# print (0x1f)\n",
    "# print (type(0x1f))"
   ]
  },
  {
   "cell_type": "code",
   "execution_count": null,
   "metadata": {
    "collapsed": false
   },
   "outputs": [],
   "source": [
    "print(addnums(\"a\",\"b\")) # hmmm the output of this might be suprising"
   ]
  },
  {
   "cell_type": "code",
   "execution_count": null,
   "metadata": {
    "collapsed": false
   },
   "outputs": [],
   "source": [
    "print (addnums(\"cat\",23232)) # this is why we might want to check types of parameters"
   ]
  },
  {
   "cell_type": "markdown",
   "metadata": {},
   "source": [
    "> ```isinstance``` is your friend for sanity checking the type of the parameters passed to your function. \n",
    "\n",
    "Note the multiple exit points from function."
   ]
  },
  {
   "cell_type": "code",
   "execution_count": null,
   "metadata": {
    "collapsed": false
   },
   "outputs": [],
   "source": [
    "def addnums(x,y):\n",
    "    if not (isinstance(x,float) or isinstance(x,int)) or \\\n",
    "    not (isinstance(y,float) or isinstance(y,int)):\n",
    "        print(\"I cannot add these types (\" + str(type(x)) + \",\" + str(type(y)) + \")\")\n",
    "        return\n",
    "    return x + y"
   ]
  },
  {
   "cell_type": "code",
   "execution_count": null,
   "metadata": {
    "collapsed": false
   },
   "outputs": [],
   "source": [
    "print(addnums(2,3.0)) # no problem here"
   ]
  },
  {
   "cell_type": "code",
   "execution_count": null,
   "metadata": {
    "collapsed": false
   },
   "outputs": [],
   "source": [
    "print(addnums(1,\"a\")) # problem is caught, note that returns None"
   ]
  },
  {
   "cell_type": "markdown",
   "metadata": {},
   "source": [
    "Functions are just another type and *you can even pass an instance of a function to a function*.\n",
    "\n",
    "This idea is used all the time in related languages like Javascript (for example, bind a GUI event to a particular function)."
   ]
  },
  {
   "cell_type": "code",
   "execution_count": null,
   "metadata": {
    "collapsed": false
   },
   "outputs": [],
   "source": [
    "print (addnums)\n",
    "print (type(addnums))"
   ]
  },
  {
   "cell_type": "code",
   "execution_count": null,
   "metadata": {
    "collapsed": false
   },
   "outputs": [],
   "source": [
    "def multiple_function(a_function, num):\n",
    "    print(a_function(1,100)*num)"
   ]
  },
  {
   "cell_type": "code",
   "execution_count": null,
   "metadata": {
    "collapsed": false
   },
   "outputs": [],
   "source": [
    "multiple_function(addnums,2) # this works"
   ]
  },
  {
   "cell_type": "code",
   "execution_count": null,
   "metadata": {
    "collapsed": false
   },
   "outputs": [],
   "source": [
    "multiple_function(addnums(1,1),3) # this doesn't work -- why?"
   ]
  },
  {
   "cell_type": "markdown",
   "metadata": {},
   "source": [
    "## Scope"
   ]
  },
  {
   "cell_type": "markdown",
   "metadata": {},
   "source": [
    "Each variable has a name or identifier that is used to access it within a program.\n",
    "\n",
    "The scope of an identifier is the region of program code in which the identifier can be accessed, or used.\n",
    "\n",
    "There are three important scopes in Python (focusing on variables here):\n",
    "\n",
    "* Local scope refers to identifiers declared within a function. These identifiers are kept in the namespace (*a namespace is a dictionary mapping names to objects*) that belongs to the function, and each function has its own namespace.\n",
    "* Global scope refers to all the identifiers declared within the current module [*we talk about modules next*], or file [*when using the interpreter, this is anything declared interactively*].\n",
    "* Built-in scope refers to all the identifiers built into Python — those like ```range``` and ```min``` that can be used without having to import anything, and are (almost) always available.\n",
    "\n",
    "Python (like most other computer languages) uses precedence rules: the same name could occur in more than one of these scopes, but the innermost, or local scope, will always take precedence over the global scope, and the global scope always gets used in preference to the built-in scope."
   ]
  },
  {
   "cell_type": "markdown",
   "metadata": {},
   "source": [
    "> You can access variables at the global scope from within a function."
   ]
  },
  {
   "cell_type": "code",
   "execution_count": null,
   "metadata": {
    "collapsed": false
   },
   "outputs": [],
   "source": [
    "x = 10 # declared globally\n",
    "def silly_walk(): \n",
    "    print(\"value of x within silly walk \"+ str(x))\n",
    "    \n",
    "# run the function\n",
    "silly_walk()\n",
    "print(\"value of x at global level is \"+str(x))"
   ]
  },
  {
   "cell_type": "markdown",
   "metadata": {},
   "source": [
    "> Declaring a variable locally with the same name as a global variable will hide it within the function"
   ]
  },
  {
   "cell_type": "code",
   "execution_count": null,
   "metadata": {
    "collapsed": false
   },
   "outputs": [],
   "source": [
    "x = 10 # declared globally\n",
    "def silly_walk(): \n",
    "    # now declare x with the local scope of silly_walk\n",
    "    x = 1000\n",
    "    print(\"value of x within silly walk \"+ str(x))\n",
    "    \n",
    "# run the function\n",
    "silly_walk()\n",
    "print(\"value of x at global level is \"+str(x))"
   ]
  },
  {
   "cell_type": "markdown",
   "metadata": {},
   "source": [
    "> Declaring a variable with the same name within the function (**anywhere!!**) will hide the global variable with the same name. This can lead to an odd situation."
   ]
  },
  {
   "cell_type": "code",
   "execution_count": null,
   "metadata": {
    "collapsed": false
   },
   "outputs": [],
   "source": [
    "x = 10 # declared globally\n",
    "def silly_walk(): \n",
    "    print(\"value of x within silly walk \"+ str(x))\n",
    "    # try and change the value of x \n",
    "    x = 1000\n",
    "\n",
    "# run the function\n",
    "silly_walk()\n",
    "print(\"value of x at global level is \"+str(x))"
   ]
  },
  {
   "cell_type": "markdown",
   "metadata": {},
   "source": [
    "> The ```global``` keyword allows access to the global scope from within a function."
   ]
  },
  {
   "cell_type": "code",
   "execution_count": null,
   "metadata": {
    "collapsed": false
   },
   "outputs": [],
   "source": [
    "x = 10 # declared globally\n",
    "def silly_walk(): \n",
    "    global x\n",
    "    print(\"previous global value of x within silly walk \"+ str(x))\n",
    "    # try and change the value of x \n",
    "    x = 1000\n",
    "\n",
    "# run the function\n",
    "silly_walk()\n",
    "print(\"value of x at global level is \"+str(x))"
   ]
  },
  {
   "cell_type": "markdown",
   "metadata": {},
   "source": [
    "## Keyword Arguments\n",
    "\n",
    "When you use keyword arguments in a function call, the caller identifies the arguments by the parameter name.\n",
    "\n",
    "This allows you to skip arguments or place them out of order because the Python interpreter is able to use the keywords provided to match the values with parameters."
   ]
  },
  {
   "cell_type": "code",
   "execution_count": null,
   "metadata": {
    "collapsed": false
   },
   "outputs": [],
   "source": [
    "def print_info( name, extn ):\n",
    "    print(\"Name: \", name)\n",
    "    print(\"Number of phone extn: \", extn)\n",
    "    return\n",
    "\n",
    "# Now you can call printinfo function\n",
    "print_info(\"5664\", \"ian\")\n",
    "print_info( extn=5664, name=\"ian\" )\n",
    "# print_info( name=\"ian\", 5664  )"
   ]
  },
  {
   "cell_type": "markdown",
   "metadata": {},
   "source": [
    "## Default Arguments\n",
    "\n",
    "A default argument is an argument that assumes a default value if a value is not provided in the function call for that argument. "
   ]
  },
  {
   "cell_type": "code",
   "execution_count": null,
   "metadata": {
    "collapsed": false
   },
   "outputs": [],
   "source": [
    "def print_info( name=\"reception\", extn=0 ):\n",
    "    print(\"Name: \", name)\n",
    "    print(\"Number of phone extn: \", extn)\n",
    "    return\n",
    "\n",
    "# Now you can call printinfo function\n",
    "print_info()\n",
    "print_info( extn=5664  )"
   ]
  },
  {
   "cell_type": "markdown",
   "metadata": {},
   "source": [
    "## Variable-length Arguments\n",
    "\n",
    "You may need to process a function for more arguments than you specified while defining the function. These arguments are called variable-length arguments and are not named in the function definition, unlike required and default arguments.\n",
    "\n",
    "An asterisk (```*```) is placed before the variable name that will hold the values of all nonkeyword variable arguments. This tuple remains empty if no additional arguments are specified during the function call. \n",
    "\n",
    "A double asterix (```**```) is placed before the variable name that will hold the names and value of each keyword variable argument. \n"
   ]
  },
  {
   "cell_type": "code",
   "execution_count": null,
   "metadata": {
    "collapsed": false
   },
   "outputs": [],
   "source": [
    "def cheeseshop(*args, **kwargs):\n",
    "\n",
    "    print(\"Arguments:\")\n",
    "    for arg in args:\n",
    "        print(str(arg))\n",
    "    print('-'*40)\n",
    "    print(\"Default keyword arguments:\")\n",
    "    for key_word in kwargs:\n",
    "        print(key_word + \" = \" + kwargs[key_word])\n",
    "    print('='*40)\n",
    "    return;\n",
    "\n",
    "# Now you can call printinfo function\n",
    "cheeseshop(5)\n"
   ]
  },
  {
   "cell_type": "markdown",
   "metadata": {},
   "source": [
    "## Pass By Value\n",
    "\n",
    "Just like Java, Python is call by value. \n",
    "\n",
    "All arguments are passed as references to objects.\n",
    "\n",
    "The actual reference itself is not copied, instead a copy of the reference is passed.\n",
    "\n",
    "This means that you cannot change the reference to point to something else within the function.\n",
    "\n",
    "But if it is a mutable object you can use it's methods to change its state.\n"
   ]
  },
  {
   "cell_type": "code",
   "execution_count": null,
   "metadata": {
    "collapsed": false
   },
   "outputs": [],
   "source": [
    "pets = [\"Fido\", \"Marlo\"] # a mutable list\n",
    "\n",
    "def add_pet(pet_list):\n",
    "    pet_list.append(\"Fifi\") # add a new pet\n",
    "    pet_list = None # we try to overwrite the reference\n",
    "    return pet_list\n",
    "\n",
    "add_pet(pets)\n",
    "\n",
    "for name in pets:\n",
    "    print(name)"
   ]
  },
  {
   "cell_type": "markdown",
   "metadata": {},
   "source": [
    "## Documentation: Just the Right Thing to Do\n",
    "\n",
    "Python makes it dead simple.\n",
    "\n",
    "Docstring: the first unassigned string in a function(or class, method, program, etc.)"
   ]
  },
  {
   "cell_type": "code",
   "execution_count": null,
   "metadata": {
    "collapsed": false
   },
   "outputs": [],
   "source": [
    "def numop1(x,y,multiplier=1.0,greetings=\"Thank you for your inquiry.\"):\n",
    "    \"\"\" \n",
    "    numop1 -- this does a simple operation on two numbers.\n",
    "    We expect x,y are numbers and return x + y times the multiplier\n",
    "    multiplier is also a number (a float is preferred) and is optional.\n",
    "    It defaults to 1.0.\n",
    "    You can also specify a small greeting as a string. \n",
    "    \"\"\"\n",
    "    if greetings is not None:\n",
    "        print(greetings)\n",
    "        return (x + y)*multiplier\n",
    "    \n",
    "numop1(1,2,3,None)"
   ]
  },
  {
   "cell_type": "markdown",
   "metadata": {},
   "source": [
    "...accessing documentation within the interpreter, use the command ```function_name?```\n",
    "\n",
    "for example, viewing the help for ```numop1```."
   ]
  },
  {
   "cell_type": "code",
   "execution_count": null,
   "metadata": {
    "collapsed": false
   },
   "outputs": [],
   "source": [
    "numop1?"
   ]
  },
  {
   "cell_type": "markdown",
   "metadata": {},
   "source": [
    "You can also generate html documentation.\n",
    "\n",
    "```pydoc3 -w numop1```\n",
    "\n",
    "<img src=\"https://ecs.victoria.ac.nz/foswiki/pub/Courses/NWEN241_2015T1/LectureSchedule/05_Functions.png\">"
   ]
  },
  {
   "cell_type": "code",
   "execution_count": null,
   "metadata": {
    "collapsed": true
   },
   "outputs": [],
   "source": []
  }
 ],
 "metadata": {
  "kernelspec": {
   "display_name": "Python 3",
   "language": "python",
   "name": "python3"
  },
  "language_info": {
   "codemirror_mode": {
    "name": "ipython",
    "version": 3
   },
   "file_extension": ".py",
   "mimetype": "text/x-python",
   "name": "python",
   "nbconvert_exporter": "python",
   "pygments_lexer": "ipython3",
   "version": "3.4.3"
  }
 },
 "nbformat": 4,
 "nbformat_minor": 0
}
